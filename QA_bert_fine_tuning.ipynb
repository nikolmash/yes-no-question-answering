{
  "nbformat": 4,
  "nbformat_minor": 0,
  "metadata": {
    "colab": {
      "name": "QA bert fine-tuning",
      "provenance": [],
      "authorship_tag": "ABX9TyPyR1jMuBhN+6NZwFwfDd2K",
      "include_colab_link": true
    },
    "kernelspec": {
      "name": "python3",
      "display_name": "Python 3"
    },
    "accelerator": "GPU",
    "widgets": {
      "application/vnd.jupyter.widget-state+json": {
        "0f41905dbe484fb4b27505173625f3b6": {
          "model_module": "@jupyter-widgets/controls",
          "model_name": "HBoxModel",
          "state": {
            "_view_name": "HBoxView",
            "_dom_classes": [],
            "_model_name": "HBoxModel",
            "_view_module": "@jupyter-widgets/controls",
            "_model_module_version": "1.5.0",
            "_view_count": null,
            "_view_module_version": "1.5.0",
            "box_style": "",
            "layout": "IPY_MODEL_15cf26f0ef404b9dab08c9fa209f98c5",
            "_model_module": "@jupyter-widgets/controls",
            "children": [
              "IPY_MODEL_647c42a5030647c090371746c09ecf34",
              "IPY_MODEL_8dfdc0acb18941beb9a114ba99cadb69"
            ]
          }
        },
        "15cf26f0ef404b9dab08c9fa209f98c5": {
          "model_module": "@jupyter-widgets/base",
          "model_name": "LayoutModel",
          "state": {
            "_view_name": "LayoutView",
            "grid_template_rows": null,
            "right": null,
            "justify_content": null,
            "_view_module": "@jupyter-widgets/base",
            "overflow": null,
            "_model_module_version": "1.2.0",
            "_view_count": null,
            "flex_flow": null,
            "width": null,
            "min_width": null,
            "border": null,
            "align_items": null,
            "bottom": null,
            "_model_module": "@jupyter-widgets/base",
            "top": null,
            "grid_column": null,
            "overflow_y": null,
            "overflow_x": null,
            "grid_auto_flow": null,
            "grid_area": null,
            "grid_template_columns": null,
            "flex": null,
            "_model_name": "LayoutModel",
            "justify_items": null,
            "grid_row": null,
            "max_height": null,
            "align_content": null,
            "visibility": null,
            "align_self": null,
            "height": null,
            "min_height": null,
            "padding": null,
            "grid_auto_rows": null,
            "grid_gap": null,
            "max_width": null,
            "order": null,
            "_view_module_version": "1.2.0",
            "grid_template_areas": null,
            "object_position": null,
            "object_fit": null,
            "grid_auto_columns": null,
            "margin": null,
            "display": null,
            "left": null
          }
        },
        "647c42a5030647c090371746c09ecf34": {
          "model_module": "@jupyter-widgets/controls",
          "model_name": "FloatProgressModel",
          "state": {
            "_view_name": "ProgressView",
            "style": "IPY_MODEL_691e17dc13174a85a020b16daf92d571",
            "_dom_classes": [],
            "description": "Downloading: 100%",
            "_model_name": "FloatProgressModel",
            "bar_style": "success",
            "max": 536063208,
            "_view_module": "@jupyter-widgets/controls",
            "_model_module_version": "1.5.0",
            "value": 536063208,
            "_view_count": null,
            "_view_module_version": "1.5.0",
            "orientation": "horizontal",
            "min": 0,
            "description_tooltip": null,
            "_model_module": "@jupyter-widgets/controls",
            "layout": "IPY_MODEL_e1679e3b6b0040de95ab8432f8676ffa"
          }
        },
        "8dfdc0acb18941beb9a114ba99cadb69": {
          "model_module": "@jupyter-widgets/controls",
          "model_name": "HTMLModel",
          "state": {
            "_view_name": "HTMLView",
            "style": "IPY_MODEL_b9592269045d4a18a8adda7c2b9b5953",
            "_dom_classes": [],
            "description": "",
            "_model_name": "HTMLModel",
            "placeholder": "​",
            "_view_module": "@jupyter-widgets/controls",
            "_model_module_version": "1.5.0",
            "value": " 536M/536M [00:23&lt;00:00, 23.1MB/s]",
            "_view_count": null,
            "_view_module_version": "1.5.0",
            "description_tooltip": null,
            "_model_module": "@jupyter-widgets/controls",
            "layout": "IPY_MODEL_9ab813b339584b81b5fa30270e1c4e27"
          }
        },
        "691e17dc13174a85a020b16daf92d571": {
          "model_module": "@jupyter-widgets/controls",
          "model_name": "ProgressStyleModel",
          "state": {
            "_view_name": "StyleView",
            "_model_name": "ProgressStyleModel",
            "description_width": "initial",
            "_view_module": "@jupyter-widgets/base",
            "_model_module_version": "1.5.0",
            "_view_count": null,
            "_view_module_version": "1.2.0",
            "bar_color": null,
            "_model_module": "@jupyter-widgets/controls"
          }
        },
        "e1679e3b6b0040de95ab8432f8676ffa": {
          "model_module": "@jupyter-widgets/base",
          "model_name": "LayoutModel",
          "state": {
            "_view_name": "LayoutView",
            "grid_template_rows": null,
            "right": null,
            "justify_content": null,
            "_view_module": "@jupyter-widgets/base",
            "overflow": null,
            "_model_module_version": "1.2.0",
            "_view_count": null,
            "flex_flow": null,
            "width": null,
            "min_width": null,
            "border": null,
            "align_items": null,
            "bottom": null,
            "_model_module": "@jupyter-widgets/base",
            "top": null,
            "grid_column": null,
            "overflow_y": null,
            "overflow_x": null,
            "grid_auto_flow": null,
            "grid_area": null,
            "grid_template_columns": null,
            "flex": null,
            "_model_name": "LayoutModel",
            "justify_items": null,
            "grid_row": null,
            "max_height": null,
            "align_content": null,
            "visibility": null,
            "align_self": null,
            "height": null,
            "min_height": null,
            "padding": null,
            "grid_auto_rows": null,
            "grid_gap": null,
            "max_width": null,
            "order": null,
            "_view_module_version": "1.2.0",
            "grid_template_areas": null,
            "object_position": null,
            "object_fit": null,
            "grid_auto_columns": null,
            "margin": null,
            "display": null,
            "left": null
          }
        },
        "b9592269045d4a18a8adda7c2b9b5953": {
          "model_module": "@jupyter-widgets/controls",
          "model_name": "DescriptionStyleModel",
          "state": {
            "_view_name": "StyleView",
            "_model_name": "DescriptionStyleModel",
            "description_width": "",
            "_view_module": "@jupyter-widgets/base",
            "_model_module_version": "1.5.0",
            "_view_count": null,
            "_view_module_version": "1.2.0",
            "_model_module": "@jupyter-widgets/controls"
          }
        },
        "9ab813b339584b81b5fa30270e1c4e27": {
          "model_module": "@jupyter-widgets/base",
          "model_name": "LayoutModel",
          "state": {
            "_view_name": "LayoutView",
            "grid_template_rows": null,
            "right": null,
            "justify_content": null,
            "_view_module": "@jupyter-widgets/base",
            "overflow": null,
            "_model_module_version": "1.2.0",
            "_view_count": null,
            "flex_flow": null,
            "width": null,
            "min_width": null,
            "border": null,
            "align_items": null,
            "bottom": null,
            "_model_module": "@jupyter-widgets/base",
            "top": null,
            "grid_column": null,
            "overflow_y": null,
            "overflow_x": null,
            "grid_auto_flow": null,
            "grid_area": null,
            "grid_template_columns": null,
            "flex": null,
            "_model_name": "LayoutModel",
            "justify_items": null,
            "grid_row": null,
            "max_height": null,
            "align_content": null,
            "visibility": null,
            "align_self": null,
            "height": null,
            "min_height": null,
            "padding": null,
            "grid_auto_rows": null,
            "grid_gap": null,
            "max_width": null,
            "order": null,
            "_view_module_version": "1.2.0",
            "grid_template_areas": null,
            "object_position": null,
            "object_fit": null,
            "grid_auto_columns": null,
            "margin": null,
            "display": null,
            "left": null
          }
        },
        "3e791e988f7c4962825aef9e05f8fa28": {
          "model_module": "@jupyter-widgets/controls",
          "model_name": "HBoxModel",
          "state": {
            "_view_name": "HBoxView",
            "_dom_classes": [],
            "_model_name": "HBoxModel",
            "_view_module": "@jupyter-widgets/controls",
            "_model_module_version": "1.5.0",
            "_view_count": null,
            "_view_module_version": "1.5.0",
            "box_style": "",
            "layout": "IPY_MODEL_391d2735310c4cd1b9c595d3c6ec755f",
            "_model_module": "@jupyter-widgets/controls",
            "children": [
              "IPY_MODEL_72db7c4ca73d4340b6a037b4f2e20895",
              "IPY_MODEL_4d161b245e584e6ba9aec0dbda80c912"
            ]
          }
        },
        "391d2735310c4cd1b9c595d3c6ec755f": {
          "model_module": "@jupyter-widgets/base",
          "model_name": "LayoutModel",
          "state": {
            "_view_name": "LayoutView",
            "grid_template_rows": null,
            "right": null,
            "justify_content": null,
            "_view_module": "@jupyter-widgets/base",
            "overflow": null,
            "_model_module_version": "1.2.0",
            "_view_count": null,
            "flex_flow": null,
            "width": null,
            "min_width": null,
            "border": null,
            "align_items": null,
            "bottom": null,
            "_model_module": "@jupyter-widgets/base",
            "top": null,
            "grid_column": null,
            "overflow_y": null,
            "overflow_x": null,
            "grid_auto_flow": null,
            "grid_area": null,
            "grid_template_columns": null,
            "flex": null,
            "_model_name": "LayoutModel",
            "justify_items": null,
            "grid_row": null,
            "max_height": null,
            "align_content": null,
            "visibility": null,
            "align_self": null,
            "height": null,
            "min_height": null,
            "padding": null,
            "grid_auto_rows": null,
            "grid_gap": null,
            "max_width": null,
            "order": null,
            "_view_module_version": "1.2.0",
            "grid_template_areas": null,
            "object_position": null,
            "object_fit": null,
            "grid_auto_columns": null,
            "margin": null,
            "display": null,
            "left": null
          }
        },
        "72db7c4ca73d4340b6a037b4f2e20895": {
          "model_module": "@jupyter-widgets/controls",
          "model_name": "FloatProgressModel",
          "state": {
            "_view_name": "ProgressView",
            "style": "IPY_MODEL_c3af5a1466bd45f2a646f5dc8a96b4c6",
            "_dom_classes": [],
            "description": "Downloading: 100%",
            "_model_name": "FloatProgressModel",
            "bar_style": "success",
            "max": 231508,
            "_view_module": "@jupyter-widgets/controls",
            "_model_module_version": "1.5.0",
            "value": 231508,
            "_view_count": null,
            "_view_module_version": "1.5.0",
            "orientation": "horizontal",
            "min": 0,
            "description_tooltip": null,
            "_model_module": "@jupyter-widgets/controls",
            "layout": "IPY_MODEL_5cea6c9e927b4e31af17a797502f1ad0"
          }
        },
        "4d161b245e584e6ba9aec0dbda80c912": {
          "model_module": "@jupyter-widgets/controls",
          "model_name": "HTMLModel",
          "state": {
            "_view_name": "HTMLView",
            "style": "IPY_MODEL_1319e6bbe1d149f98c98f8a21618066d",
            "_dom_classes": [],
            "description": "",
            "_model_name": "HTMLModel",
            "placeholder": "​",
            "_view_module": "@jupyter-widgets/controls",
            "_model_module_version": "1.5.0",
            "value": " 232k/232k [00:00&lt;00:00, 641kB/s]",
            "_view_count": null,
            "_view_module_version": "1.5.0",
            "description_tooltip": null,
            "_model_module": "@jupyter-widgets/controls",
            "layout": "IPY_MODEL_344244438a274178843584d9b243642c"
          }
        },
        "c3af5a1466bd45f2a646f5dc8a96b4c6": {
          "model_module": "@jupyter-widgets/controls",
          "model_name": "ProgressStyleModel",
          "state": {
            "_view_name": "StyleView",
            "_model_name": "ProgressStyleModel",
            "description_width": "initial",
            "_view_module": "@jupyter-widgets/base",
            "_model_module_version": "1.5.0",
            "_view_count": null,
            "_view_module_version": "1.2.0",
            "bar_color": null,
            "_model_module": "@jupyter-widgets/controls"
          }
        },
        "5cea6c9e927b4e31af17a797502f1ad0": {
          "model_module": "@jupyter-widgets/base",
          "model_name": "LayoutModel",
          "state": {
            "_view_name": "LayoutView",
            "grid_template_rows": null,
            "right": null,
            "justify_content": null,
            "_view_module": "@jupyter-widgets/base",
            "overflow": null,
            "_model_module_version": "1.2.0",
            "_view_count": null,
            "flex_flow": null,
            "width": null,
            "min_width": null,
            "border": null,
            "align_items": null,
            "bottom": null,
            "_model_module": "@jupyter-widgets/base",
            "top": null,
            "grid_column": null,
            "overflow_y": null,
            "overflow_x": null,
            "grid_auto_flow": null,
            "grid_area": null,
            "grid_template_columns": null,
            "flex": null,
            "_model_name": "LayoutModel",
            "justify_items": null,
            "grid_row": null,
            "max_height": null,
            "align_content": null,
            "visibility": null,
            "align_self": null,
            "height": null,
            "min_height": null,
            "padding": null,
            "grid_auto_rows": null,
            "grid_gap": null,
            "max_width": null,
            "order": null,
            "_view_module_version": "1.2.0",
            "grid_template_areas": null,
            "object_position": null,
            "object_fit": null,
            "grid_auto_columns": null,
            "margin": null,
            "display": null,
            "left": null
          }
        },
        "1319e6bbe1d149f98c98f8a21618066d": {
          "model_module": "@jupyter-widgets/controls",
          "model_name": "DescriptionStyleModel",
          "state": {
            "_view_name": "StyleView",
            "_model_name": "DescriptionStyleModel",
            "description_width": "",
            "_view_module": "@jupyter-widgets/base",
            "_model_module_version": "1.5.0",
            "_view_count": null,
            "_view_module_version": "1.2.0",
            "_model_module": "@jupyter-widgets/controls"
          }
        },
        "344244438a274178843584d9b243642c": {
          "model_module": "@jupyter-widgets/base",
          "model_name": "LayoutModel",
          "state": {
            "_view_name": "LayoutView",
            "grid_template_rows": null,
            "right": null,
            "justify_content": null,
            "_view_module": "@jupyter-widgets/base",
            "overflow": null,
            "_model_module_version": "1.2.0",
            "_view_count": null,
            "flex_flow": null,
            "width": null,
            "min_width": null,
            "border": null,
            "align_items": null,
            "bottom": null,
            "_model_module": "@jupyter-widgets/base",
            "top": null,
            "grid_column": null,
            "overflow_y": null,
            "overflow_x": null,
            "grid_auto_flow": null,
            "grid_area": null,
            "grid_template_columns": null,
            "flex": null,
            "_model_name": "LayoutModel",
            "justify_items": null,
            "grid_row": null,
            "max_height": null,
            "align_content": null,
            "visibility": null,
            "align_self": null,
            "height": null,
            "min_height": null,
            "padding": null,
            "grid_auto_rows": null,
            "grid_gap": null,
            "max_width": null,
            "order": null,
            "_view_module_version": "1.2.0",
            "grid_template_areas": null,
            "object_position": null,
            "object_fit": null,
            "grid_auto_columns": null,
            "margin": null,
            "display": null,
            "left": null
          }
        }
      }
    }
  },
  "cells": [
    {
      "cell_type": "markdown",
      "metadata": {
        "id": "view-in-github",
        "colab_type": "text"
      },
      "source": [
        "<a href=\"https://colab.research.google.com/github/nikolmash/yes-no-question-answering/blob/master/QA_bert_fine_tuning.ipynb\" target=\"_parent\"><img src=\"https://colab.research.google.com/assets/colab-badge.svg\" alt=\"Open In Colab\"/></a>"
      ]
    },
    {
      "cell_type": "code",
      "metadata": {
        "id": "Il3nXoR8f6AD",
        "colab_type": "code",
        "colab": {
          "base_uri": "https://localhost:8080/",
          "height": 658
        },
        "outputId": "ec33a71e-6ead-4e1c-e763-2953a1dd52d4"
      },
      "source": [
        "!pip install transformers\n",
        "!pip install jsonlines\n",
        "import numpy as np\n",
        "import pandas as pd\n",
        "import tensorflow as tf \n",
        "import jsonlines\n",
        "from tensorflow import keras\n",
        "from tensorflow.keras import layers\n",
        "from transformers import *\n",
        "from tqdm.notebook import tqdm\n",
        "from sklearn.metrics import accuracy_score, f1_score"
      ],
      "execution_count": 1,
      "outputs": [
        {
          "output_type": "stream",
          "text": [
            "Collecting transformers\n",
            "\u001b[?25l  Downloading https://files.pythonhosted.org/packages/12/b5/ac41e3e95205ebf53439e4dd087c58e9fd371fd8e3724f2b9b4cdb8282e5/transformers-2.10.0-py3-none-any.whl (660kB)\n",
            "\r\u001b[K     |▌                               | 10kB 24.4MB/s eta 0:00:01\r\u001b[K     |█                               | 20kB 4.2MB/s eta 0:00:01\r\u001b[K     |█▌                              | 30kB 5.5MB/s eta 0:00:01\r\u001b[K     |██                              | 40kB 5.8MB/s eta 0:00:01\r\u001b[K     |██▌                             | 51kB 4.9MB/s eta 0:00:01\r\u001b[K     |███                             | 61kB 5.4MB/s eta 0:00:01\r\u001b[K     |███▌                            | 71kB 5.7MB/s eta 0:00:01\r\u001b[K     |████                            | 81kB 6.2MB/s eta 0:00:01\r\u001b[K     |████▌                           | 92kB 6.6MB/s eta 0:00:01\r\u001b[K     |█████                           | 102kB 6.7MB/s eta 0:00:01\r\u001b[K     |█████▌                          | 112kB 6.7MB/s eta 0:00:01\r\u001b[K     |██████                          | 122kB 6.7MB/s eta 0:00:01\r\u001b[K     |██████▌                         | 133kB 6.7MB/s eta 0:00:01\r\u001b[K     |███████                         | 143kB 6.7MB/s eta 0:00:01\r\u001b[K     |███████▌                        | 153kB 6.7MB/s eta 0:00:01\r\u001b[K     |████████                        | 163kB 6.7MB/s eta 0:00:01\r\u001b[K     |████████▍                       | 174kB 6.7MB/s eta 0:00:01\r\u001b[K     |█████████                       | 184kB 6.7MB/s eta 0:00:01\r\u001b[K     |█████████▍                      | 194kB 6.7MB/s eta 0:00:01\r\u001b[K     |██████████                      | 204kB 6.7MB/s eta 0:00:01\r\u001b[K     |██████████▍                     | 215kB 6.7MB/s eta 0:00:01\r\u001b[K     |███████████                     | 225kB 6.7MB/s eta 0:00:01\r\u001b[K     |███████████▍                    | 235kB 6.7MB/s eta 0:00:01\r\u001b[K     |████████████                    | 245kB 6.7MB/s eta 0:00:01\r\u001b[K     |████████████▍                   | 256kB 6.7MB/s eta 0:00:01\r\u001b[K     |█████████████                   | 266kB 6.7MB/s eta 0:00:01\r\u001b[K     |█████████████▍                  | 276kB 6.7MB/s eta 0:00:01\r\u001b[K     |██████████████                  | 286kB 6.7MB/s eta 0:00:01\r\u001b[K     |██████████████▍                 | 296kB 6.7MB/s eta 0:00:01\r\u001b[K     |███████████████                 | 307kB 6.7MB/s eta 0:00:01\r\u001b[K     |███████████████▍                | 317kB 6.7MB/s eta 0:00:01\r\u001b[K     |███████████████▉                | 327kB 6.7MB/s eta 0:00:01\r\u001b[K     |████████████████▍               | 337kB 6.7MB/s eta 0:00:01\r\u001b[K     |████████████████▉               | 348kB 6.7MB/s eta 0:00:01\r\u001b[K     |█████████████████▍              | 358kB 6.7MB/s eta 0:00:01\r\u001b[K     |█████████████████▉              | 368kB 6.7MB/s eta 0:00:01\r\u001b[K     |██████████████████▍             | 378kB 6.7MB/s eta 0:00:01\r\u001b[K     |██████████████████▉             | 389kB 6.7MB/s eta 0:00:01\r\u001b[K     |███████████████████▍            | 399kB 6.7MB/s eta 0:00:01\r\u001b[K     |███████████████████▉            | 409kB 6.7MB/s eta 0:00:01\r\u001b[K     |████████████████████▍           | 419kB 6.7MB/s eta 0:00:01\r\u001b[K     |████████████████████▉           | 430kB 6.7MB/s eta 0:00:01\r\u001b[K     |█████████████████████▍          | 440kB 6.7MB/s eta 0:00:01\r\u001b[K     |█████████████████████▉          | 450kB 6.7MB/s eta 0:00:01\r\u001b[K     |██████████████████████▍         | 460kB 6.7MB/s eta 0:00:01\r\u001b[K     |██████████████████████▉         | 471kB 6.7MB/s eta 0:00:01\r\u001b[K     |███████████████████████▎        | 481kB 6.7MB/s eta 0:00:01\r\u001b[K     |███████████████████████▉        | 491kB 6.7MB/s eta 0:00:01\r\u001b[K     |████████████████████████▎       | 501kB 6.7MB/s eta 0:00:01\r\u001b[K     |████████████████████████▉       | 512kB 6.7MB/s eta 0:00:01\r\u001b[K     |█████████████████████████▎      | 522kB 6.7MB/s eta 0:00:01\r\u001b[K     |█████████████████████████▉      | 532kB 6.7MB/s eta 0:00:01\r\u001b[K     |██████████████████████████▎     | 542kB 6.7MB/s eta 0:00:01\r\u001b[K     |██████████████████████████▉     | 552kB 6.7MB/s eta 0:00:01\r\u001b[K     |███████████████████████████▎    | 563kB 6.7MB/s eta 0:00:01\r\u001b[K     |███████████████████████████▉    | 573kB 6.7MB/s eta 0:00:01\r\u001b[K     |████████████████████████████▎   | 583kB 6.7MB/s eta 0:00:01\r\u001b[K     |████████████████████████████▉   | 593kB 6.7MB/s eta 0:00:01\r\u001b[K     |█████████████████████████████▎  | 604kB 6.7MB/s eta 0:00:01\r\u001b[K     |█████████████████████████████▉  | 614kB 6.7MB/s eta 0:00:01\r\u001b[K     |██████████████████████████████▎ | 624kB 6.7MB/s eta 0:00:01\r\u001b[K     |██████████████████████████████▊ | 634kB 6.7MB/s eta 0:00:01\r\u001b[K     |███████████████████████████████▎| 645kB 6.7MB/s eta 0:00:01\r\u001b[K     |███████████████████████████████▊| 655kB 6.7MB/s eta 0:00:01\r\u001b[K     |████████████████████████████████| 665kB 6.7MB/s \n",
            "\u001b[?25hRequirement already satisfied: dataclasses; python_version < \"3.7\" in /usr/local/lib/python3.6/dist-packages (from transformers) (0.7)\n",
            "Requirement already satisfied: tqdm>=4.27 in /usr/local/lib/python3.6/dist-packages (from transformers) (4.41.1)\n",
            "Collecting tokenizers==0.7.0\n",
            "\u001b[?25l  Downloading https://files.pythonhosted.org/packages/14/e5/a26eb4716523808bb0a799fcfdceb6ebf77a18169d9591b2f46a9adb87d9/tokenizers-0.7.0-cp36-cp36m-manylinux1_x86_64.whl (3.8MB)\n",
            "\u001b[K     |████████████████████████████████| 3.8MB 21.8MB/s \n",
            "\u001b[?25hRequirement already satisfied: filelock in /usr/local/lib/python3.6/dist-packages (from transformers) (3.0.12)\n",
            "Requirement already satisfied: regex!=2019.12.17 in /usr/local/lib/python3.6/dist-packages (from transformers) (2019.12.20)\n",
            "Requirement already satisfied: numpy in /usr/local/lib/python3.6/dist-packages (from transformers) (1.18.4)\n",
            "Collecting sacremoses\n",
            "\u001b[?25l  Downloading https://files.pythonhosted.org/packages/7d/34/09d19aff26edcc8eb2a01bed8e98f13a1537005d31e95233fd48216eed10/sacremoses-0.0.43.tar.gz (883kB)\n",
            "\u001b[K     |████████████████████████████████| 890kB 38.4MB/s \n",
            "\u001b[?25hRequirement already satisfied: requests in /usr/local/lib/python3.6/dist-packages (from transformers) (2.23.0)\n",
            "Collecting sentencepiece\n",
            "\u001b[?25l  Downloading https://files.pythonhosted.org/packages/d4/a4/d0a884c4300004a78cca907a6ff9a5e9fe4f090f5d95ab341c53d28cbc58/sentencepiece-0.1.91-cp36-cp36m-manylinux1_x86_64.whl (1.1MB)\n",
            "\u001b[K     |████████████████████████████████| 1.1MB 37.9MB/s \n",
            "\u001b[?25hRequirement already satisfied: six in /usr/local/lib/python3.6/dist-packages (from sacremoses->transformers) (1.12.0)\n",
            "Requirement already satisfied: click in /usr/local/lib/python3.6/dist-packages (from sacremoses->transformers) (7.1.2)\n",
            "Requirement already satisfied: joblib in /usr/local/lib/python3.6/dist-packages (from sacremoses->transformers) (0.15.1)\n",
            "Requirement already satisfied: certifi>=2017.4.17 in /usr/local/lib/python3.6/dist-packages (from requests->transformers) (2020.4.5.1)\n",
            "Requirement already satisfied: chardet<4,>=3.0.2 in /usr/local/lib/python3.6/dist-packages (from requests->transformers) (3.0.4)\n",
            "Requirement already satisfied: urllib3!=1.25.0,!=1.25.1,<1.26,>=1.21.1 in /usr/local/lib/python3.6/dist-packages (from requests->transformers) (1.24.3)\n",
            "Requirement already satisfied: idna<3,>=2.5 in /usr/local/lib/python3.6/dist-packages (from requests->transformers) (2.9)\n",
            "Building wheels for collected packages: sacremoses\n",
            "  Building wheel for sacremoses (setup.py) ... \u001b[?25l\u001b[?25hdone\n",
            "  Created wheel for sacremoses: filename=sacremoses-0.0.43-cp36-none-any.whl size=893260 sha256=a92f3f4bf9732b94ed15598a3042d0c12b156ba959d253f2758498ba8bf9b287\n",
            "  Stored in directory: /root/.cache/pip/wheels/29/3c/fd/7ce5c3f0666dab31a50123635e6fb5e19ceb42ce38d4e58f45\n",
            "Successfully built sacremoses\n",
            "Installing collected packages: tokenizers, sacremoses, sentencepiece, transformers\n",
            "Successfully installed sacremoses-0.0.43 sentencepiece-0.1.91 tokenizers-0.7.0 transformers-2.10.0\n",
            "Collecting jsonlines\n",
            "  Downloading https://files.pythonhosted.org/packages/4f/9a/ab96291470e305504aa4b7a2e0ec132e930da89eb3ca7a82fbe03167c131/jsonlines-1.2.0-py2.py3-none-any.whl\n",
            "Requirement already satisfied: six in /usr/local/lib/python3.6/dist-packages (from jsonlines) (1.12.0)\n",
            "Installing collected packages: jsonlines\n",
            "Successfully installed jsonlines-1.2.0\n"
          ],
          "name": "stdout"
        }
      ]
    },
    {
      "cell_type": "code",
      "metadata": {
        "id": "JjfWZB3ngUMk",
        "colab_type": "code",
        "colab": {
          "base_uri": "https://localhost:8080/",
          "height": 124
        },
        "outputId": "60a52e0c-b10b-4b99-a8c5-1c845b6e4813"
      },
      "source": [
        "from google.colab import drive\n",
        "drive.mount('/content/drive')"
      ],
      "execution_count": 2,
      "outputs": [
        {
          "output_type": "stream",
          "text": [
            "Go to this URL in a browser: https://accounts.google.com/o/oauth2/auth?client_id=947318989803-6bn6qk8qdgf4n4g3pfee6491hc0brc4i.apps.googleusercontent.com&redirect_uri=urn%3aietf%3awg%3aoauth%3a2.0%3aoob&response_type=code&scope=email%20https%3a%2f%2fwww.googleapis.com%2fauth%2fdocs.test%20https%3a%2f%2fwww.googleapis.com%2fauth%2fdrive%20https%3a%2f%2fwww.googleapis.com%2fauth%2fdrive.photos.readonly%20https%3a%2f%2fwww.googleapis.com%2fauth%2fpeopleapi.readonly\n",
            "\n",
            "Enter your authorization code:\n",
            "··········\n",
            "Mounted at /content/drive\n"
          ],
          "name": "stdout"
        }
      ]
    },
    {
      "cell_type": "code",
      "metadata": {
        "id": "pyhKOBxRgW4T",
        "colab_type": "code",
        "colab": {}
      },
      "source": [
        "with jsonlines.open('/content/drive/My Drive/train.jsonl') as reader:\n",
        "      train = [obj for obj in reader]\n",
        "with jsonlines.open('/content/drive/My Drive/dev.jsonl') as reader:\n",
        "      dev = [obj for obj in reader]"
      ],
      "execution_count": 0,
      "outputs": []
    },
    {
      "cell_type": "code",
      "metadata": {
        "id": "OyOOzfa4gYzv",
        "colab_type": "code",
        "colab": {
          "base_uri": "https://localhost:8080/",
          "height": 116,
          "referenced_widgets": [
            "0f41905dbe484fb4b27505173625f3b6",
            "15cf26f0ef404b9dab08c9fa209f98c5",
            "647c42a5030647c090371746c09ecf34",
            "8dfdc0acb18941beb9a114ba99cadb69",
            "691e17dc13174a85a020b16daf92d571",
            "e1679e3b6b0040de95ab8432f8676ffa",
            "b9592269045d4a18a8adda7c2b9b5953",
            "9ab813b339584b81b5fa30270e1c4e27",
            "3e791e988f7c4962825aef9e05f8fa28",
            "391d2735310c4cd1b9c595d3c6ec755f",
            "72db7c4ca73d4340b6a037b4f2e20895",
            "4d161b245e584e6ba9aec0dbda80c912",
            "c3af5a1466bd45f2a646f5dc8a96b4c6",
            "5cea6c9e927b4e31af17a797502f1ad0",
            "1319e6bbe1d149f98c98f8a21618066d",
            "344244438a274178843584d9b243642c"
          ]
        },
        "outputId": "298cd3fa-fc04-41ac-82cd-d0731bbeb297"
      },
      "source": [
        "config = BertConfig(num_labels=2)\n",
        "\n",
        "bert_model = TFBertModel.from_pretrained(\"bert-base-uncased\", config = config) \n",
        "bert_tokenizer = BertTokenizer.from_pretrained(\"bert-base-uncased\")"
      ],
      "execution_count": 4,
      "outputs": [
        {
          "output_type": "display_data",
          "data": {
            "application/vnd.jupyter.widget-view+json": {
              "model_id": "0f41905dbe484fb4b27505173625f3b6",
              "version_minor": 0,
              "version_major": 2
            },
            "text/plain": [
              "HBox(children=(FloatProgress(value=0.0, description='Downloading', max=536063208.0, style=ProgressStyle(descri…"
            ]
          },
          "metadata": {
            "tags": []
          }
        },
        {
          "output_type": "stream",
          "text": [
            "\n"
          ],
          "name": "stdout"
        },
        {
          "output_type": "display_data",
          "data": {
            "application/vnd.jupyter.widget-view+json": {
              "model_id": "3e791e988f7c4962825aef9e05f8fa28",
              "version_minor": 0,
              "version_major": 2
            },
            "text/plain": [
              "HBox(children=(FloatProgress(value=0.0, description='Downloading', max=231508.0, style=ProgressStyle(descripti…"
            ]
          },
          "metadata": {
            "tags": []
          }
        },
        {
          "output_type": "stream",
          "text": [
            "\n"
          ],
          "name": "stdout"
        }
      ]
    },
    {
      "cell_type": "code",
      "metadata": {
        "id": "hk6UkCeNv_xP",
        "colab_type": "code",
        "colab": {}
      },
      "source": [
        "train_df = pd.DataFrame(train)\n",
        "dev_df = pd.DataFrame(dev)"
      ],
      "execution_count": 0,
      "outputs": []
    },
    {
      "cell_type": "code",
      "metadata": {
        "id": "hrNTuD0DwAax",
        "colab_type": "code",
        "colab": {}
      },
      "source": [
        "train_df['question'] = train_df['question'].apply(bert_tokenizer.tokenize)\n",
        "train_df['passage'] = train_df['passage'].apply(bert_tokenizer.tokenize)\n",
        "dev_df['question'] = dev_df['question'].apply(bert_tokenizer.tokenize)\n",
        "dev_df['passage'] = dev_df['passage'].apply(bert_tokenizer.tokenize)"
      ],
      "execution_count": 0,
      "outputs": []
    },
    {
      "cell_type": "code",
      "metadata": {
        "id": "qCxFtXPBwDOr",
        "colab_type": "code",
        "colab": {}
      },
      "source": [
        "max_length = 512\n",
        "train_input_ids = []\n",
        "train_attention_masks = []\n",
        "train_token_ids = []\n",
        "\n",
        "for question, text in zip(train_df['question'].values, train_df['passage'].values):\n",
        "  encoded_data = bert_tokenizer.encode_plus(question, text, max_length=max_length, add_special_tokens=True,\n",
        "                                            pad_to_max_length=True, truncation_strategy=\"longest_first\")\n",
        "  input_ids = encoded_data['input_ids']\n",
        "  attention_mask = encoded_data['attention_mask']\n",
        "  token_type_ids = encoded_data['token_type_ids']\n",
        "  train_input_ids.append(input_ids)\n",
        "  train_attention_masks.append(attention_mask)\n",
        "  train_token_ids.append(token_type_ids)\n",
        "\n",
        "train_input_ids = np.array(train_input_ids)\n",
        "train_attention_masks = np.array(train_attention_masks)\n",
        "train_token_ids = np.array(train_token_ids)"
      ],
      "execution_count": 0,
      "outputs": []
    },
    {
      "cell_type": "code",
      "metadata": {
        "id": "p2eA5MdCwFcy",
        "colab_type": "code",
        "colab": {}
      },
      "source": [
        "dev_input_ids = []\n",
        "dev_attention_masks = []\n",
        "dev_token_ids = []\n",
        "\n",
        "for question, text in zip(dev_df['question'].values, dev_df['passage'].values):\n",
        "  encoded_data = bert_tokenizer.encode_plus(question, text, max_length=max_length, add_special_tokens=True,\n",
        "                                            pad_to_max_length=True, truncation_strategy=\"longest_first\")\n",
        "  input_ids = encoded_data['input_ids']\n",
        "  attention_mask = encoded_data['attention_mask']\n",
        "  token_type_ids = encoded_data['token_type_ids']\n",
        "  dev_input_ids.append(input_ids)\n",
        "  dev_attention_masks.append(attention_mask)\n",
        "  dev_token_ids.append(token_type_ids)\n",
        "\n",
        "dev_input_ids = np.array(dev_input_ids)\n",
        "dev_attention_masks = np.array(dev_attention_masks)\n",
        "dev_token_ids = np.array(dev_token_ids)"
      ],
      "execution_count": 0,
      "outputs": []
    },
    {
      "cell_type": "code",
      "metadata": {
        "id": "dxc5BHcSwHkL",
        "colab_type": "code",
        "colab": {}
      },
      "source": [
        "train_answers = np.array(train_df['answer'].values.astype(int))\n",
        "dev_answers = dev_df['answer'].values.astype(int)"
      ],
      "execution_count": 0,
      "outputs": []
    },
    {
      "cell_type": "code",
      "metadata": {
        "id": "0qhbF5qM05Yg",
        "colab_type": "code",
        "colab": {}
      },
      "source": [
        "input_ids = layers.Input(shape=(max_length,), dtype=tf.int32)\n",
        "token_type_ids = layers.Input(shape=(max_length,), dtype=tf.int32)\n",
        "attention_mask = layers.Input(shape=(max_length,), dtype=tf.int32)\n",
        "\n",
        "embedding_layer = bert_model(input_ids, token_type_ids=token_type_ids,\n",
        "                             attention_mask=attention_mask)[0]\n",
        "\n",
        "X = tf.keras.layers.Bidirectional(tf.keras.layers.LSTM(64, return_sequences=False))(embedding_layer)\n",
        "X = tf.keras.layers.Dense(32, activation='relu')(X)\n",
        "X = tf.keras.layers.Dropout(0.3)(X)\n",
        "X = tf.keras.layers.Dense(1, activation='sigmoid')(X)\n",
        "model = tf.keras.Model(inputs=[input_ids, token_type_ids, attention_mask], outputs = X)"
      ],
      "execution_count": 0,
      "outputs": []
    },
    {
      "cell_type": "code",
      "metadata": {
        "id": "inmPa64k2QGA",
        "colab_type": "code",
        "colab": {
          "base_uri": "https://localhost:8080/",
          "height": 433
        },
        "outputId": "12494fe7-5681-4bf4-e464-f363bb4278f4"
      },
      "source": [
        "for layer in model.layers[:4]:\n",
        "  layer.trainable = False\n",
        "\n",
        "model.compile(optimizer='adam', \n",
        "              loss='binary_crossentropy',\n",
        "              metrics=['accuracy'])\n",
        "model.summary()"
      ],
      "execution_count": 45,
      "outputs": [
        {
          "output_type": "stream",
          "text": [
            "Model: \"model_10\"\n",
            "__________________________________________________________________________________________________\n",
            "Layer (type)                    Output Shape         Param #     Connected to                     \n",
            "==================================================================================================\n",
            "input_31 (InputLayer)           [(None, 512)]        0                                            \n",
            "__________________________________________________________________________________________________\n",
            "input_33 (InputLayer)           [(None, 512)]        0                                            \n",
            "__________________________________________________________________________________________________\n",
            "input_32 (InputLayer)           [(None, 512)]        0                                            \n",
            "__________________________________________________________________________________________________\n",
            "tf_bert_model (TFBertModel)     ((None, 512, 768), ( 109482240   input_31[0][0]                   \n",
            "__________________________________________________________________________________________________\n",
            "bidirectional_12 (Bidirectional (None, 128)          426496      tf_bert_model[10][0]             \n",
            "__________________________________________________________________________________________________\n",
            "dense_21 (Dense)                (None, 32)           4128        bidirectional_12[0][0]           \n",
            "__________________________________________________________________________________________________\n",
            "dropout_47 (Dropout)            (None, 32)           0           dense_21[0][0]                   \n",
            "__________________________________________________________________________________________________\n",
            "dense_22 (Dense)                (None, 1)            33          dropout_47[0][0]                 \n",
            "==================================================================================================\n",
            "Total params: 109,912,897\n",
            "Trainable params: 430,657\n",
            "Non-trainable params: 109,482,240\n",
            "__________________________________________________________________________________________________\n"
          ],
          "name": "stdout"
        }
      ]
    },
    {
      "cell_type": "code",
      "metadata": {
        "id": "HY5B8myv2TTT",
        "colab_type": "code",
        "colab": {
          "base_uri": "https://localhost:8080/",
          "height": 554
        },
        "outputId": "3380eb11-0dcc-4d71-ca59-adf88f9c55f5"
      },
      "source": [
        "model.fit(x=[train_input_ids, train_token_ids, train_attention_masks],\n",
        "          y=train_answers,\n",
        "          batch_size=32,\n",
        "          epochs=15,\n",
        "          steps_per_epoch=100,\n",
        "          validation_split=0.1,\n",
        "          verbose=1)"
      ],
      "execution_count": 46,
      "outputs": [
        {
          "output_type": "stream",
          "text": [
            "Epoch 1/15\n",
            "100/100 [==============================] - 108s 1s/step - loss: 0.6685 - accuracy: 0.6184 - val_loss: 0.6749 - val_accuracy: 0.5938\n",
            "Epoch 2/15\n",
            "100/100 [==============================] - 104s 1s/step - loss: 0.6549 - accuracy: 0.6244 - val_loss: 0.6714 - val_accuracy: 0.5928\n",
            "Epoch 3/15\n",
            "100/100 [==============================] - 103s 1s/step - loss: 0.6432 - accuracy: 0.6381 - val_loss: 0.6710 - val_accuracy: 0.5949\n",
            "Epoch 4/15\n",
            "100/100 [==============================] - 104s 1s/step - loss: 0.6276 - accuracy: 0.6444 - val_loss: 0.6592 - val_accuracy: 0.6055\n",
            "Epoch 5/15\n",
            "100/100 [==============================] - 104s 1s/step - loss: 0.6284 - accuracy: 0.6488 - val_loss: 0.6503 - val_accuracy: 0.6151\n",
            "Epoch 6/15\n",
            "100/100 [==============================] - 103s 1s/step - loss: 0.6280 - accuracy: 0.6532 - val_loss: 0.6596 - val_accuracy: 0.6278\n",
            "Epoch 7/15\n",
            "100/100 [==============================] - 104s 1s/step - loss: 0.6004 - accuracy: 0.6834 - val_loss: 0.6508 - val_accuracy: 0.6002\n",
            "Epoch 8/15\n",
            "100/100 [==============================] - 103s 1s/step - loss: 0.5965 - accuracy: 0.6765 - val_loss: 0.6484 - val_accuracy: 0.5981\n",
            "Epoch 9/15\n",
            "100/100 [==============================] - 104s 1s/step - loss: 0.5919 - accuracy: 0.6819 - val_loss: 0.6391 - val_accuracy: 0.6373\n",
            "Epoch 10/15\n",
            "100/100 [==============================] - 104s 1s/step - loss: 0.5840 - accuracy: 0.6909 - val_loss: 0.6388 - val_accuracy: 0.6363\n",
            "Epoch 11/15\n",
            "100/100 [==============================] - 103s 1s/step - loss: 0.5762 - accuracy: 0.6983 - val_loss: 0.6423 - val_accuracy: 0.6596\n",
            "Epoch 12/15\n",
            "100/100 [==============================] - 104s 1s/step - loss: 0.5670 - accuracy: 0.7059 - val_loss: 0.6399 - val_accuracy: 0.6426\n",
            "Epoch 13/15\n",
            "100/100 [==============================] - 104s 1s/step - loss: 0.5599 - accuracy: 0.7216 - val_loss: 0.6385 - val_accuracy: 0.6532\n",
            "Epoch 14/15\n",
            "100/100 [==============================] - 103s 1s/step - loss: 0.5312 - accuracy: 0.7368 - val_loss: 0.6554 - val_accuracy: 0.6384\n",
            "Epoch 15/15\n",
            "100/100 [==============================] - 104s 1s/step - loss: 0.5269 - accuracy: 0.7416 - val_loss: 0.6477 - val_accuracy: 0.6638\n"
          ],
          "name": "stdout"
        },
        {
          "output_type": "execute_result",
          "data": {
            "text/plain": [
              "<tensorflow.python.keras.callbacks.History at 0x7fd73552d208>"
            ]
          },
          "metadata": {
            "tags": []
          },
          "execution_count": 46
        }
      ]
    },
    {
      "cell_type": "code",
      "metadata": {
        "id": "ZOrFgU8mKQeB",
        "colab_type": "code",
        "colab": {}
      },
      "source": [
        "preds = model.predict([dev_input_ids, dev_token_ids, dev_attention_masks])"
      ],
      "execution_count": 0,
      "outputs": []
    },
    {
      "cell_type": "code",
      "metadata": {
        "id": "twdCLHhCccC5",
        "colab_type": "code",
        "colab": {}
      },
      "source": [
        "labels = (preds > 0.5).astype(np.int)"
      ],
      "execution_count": 0,
      "outputs": []
    },
    {
      "cell_type": "code",
      "metadata": {
        "id": "GE1UuTYcLkgL",
        "colab_type": "code",
        "colab": {
          "base_uri": "https://localhost:8080/",
          "height": 52
        },
        "outputId": "00abb0bd-ebad-4c33-ee18-ed367372b0bb"
      },
      "source": [
        "print('Accuracy: ', accuracy_score(dev_answers, labels))\n",
        "print('F1 score: ', f1_score(dev_answers, labels))\n"
      ],
      "execution_count": 56,
      "outputs": [
        {
          "output_type": "stream",
          "text": [
            "Accuracy:  0.6675840978593273\n",
            "F1 score:  0.7562233684682663\n"
          ],
          "name": "stdout"
        }
      ]
    }
  ]
}