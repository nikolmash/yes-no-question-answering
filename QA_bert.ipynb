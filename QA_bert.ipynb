{
  "nbformat": 4,
  "nbformat_minor": 0,
  "metadata": {
    "colab": {
      "name": "QA bert.ipynb",
      "provenance": [],
      "collapsed_sections": [],
      "machine_shape": "hm",
      "authorship_tag": "ABX9TyPQ6qOPVqXDg6BDQutuG/OF",
      "include_colab_link": true
    },
    "kernelspec": {
      "name": "python3",
      "display_name": "Python 3"
    },
    "widgets": {
      "application/vnd.jupyter.widget-state+json": {
        "7ef3750d12554318ac572c7f1a5a86ca": {
          "model_module": "@jupyter-widgets/controls",
          "model_name": "HBoxModel",
          "state": {
            "_view_name": "HBoxView",
            "_dom_classes": [],
            "_model_name": "HBoxModel",
            "_view_module": "@jupyter-widgets/controls",
            "_model_module_version": "1.5.0",
            "_view_count": null,
            "_view_module_version": "1.5.0",
            "box_style": "",
            "layout": "IPY_MODEL_5e8d2e06af754c4cb84fa1263bd9c351",
            "_model_module": "@jupyter-widgets/controls",
            "children": [
              "IPY_MODEL_7bdc3f552bf143d6ab7a2682cab55499",
              "IPY_MODEL_0fa375c3499f4dad9685e32cb64d0701"
            ]
          }
        },
        "5e8d2e06af754c4cb84fa1263bd9c351": {
          "model_module": "@jupyter-widgets/base",
          "model_name": "LayoutModel",
          "state": {
            "_view_name": "LayoutView",
            "grid_template_rows": null,
            "right": null,
            "justify_content": null,
            "_view_module": "@jupyter-widgets/base",
            "overflow": null,
            "_model_module_version": "1.2.0",
            "_view_count": null,
            "flex_flow": null,
            "width": null,
            "min_width": null,
            "border": null,
            "align_items": null,
            "bottom": null,
            "_model_module": "@jupyter-widgets/base",
            "top": null,
            "grid_column": null,
            "overflow_y": null,
            "overflow_x": null,
            "grid_auto_flow": null,
            "grid_area": null,
            "grid_template_columns": null,
            "flex": null,
            "_model_name": "LayoutModel",
            "justify_items": null,
            "grid_row": null,
            "max_height": null,
            "align_content": null,
            "visibility": null,
            "align_self": null,
            "height": null,
            "min_height": null,
            "padding": null,
            "grid_auto_rows": null,
            "grid_gap": null,
            "max_width": null,
            "order": null,
            "_view_module_version": "1.2.0",
            "grid_template_areas": null,
            "object_position": null,
            "object_fit": null,
            "grid_auto_columns": null,
            "margin": null,
            "display": null,
            "left": null
          }
        },
        "7bdc3f552bf143d6ab7a2682cab55499": {
          "model_module": "@jupyter-widgets/controls",
          "model_name": "FloatProgressModel",
          "state": {
            "_view_name": "ProgressView",
            "style": "IPY_MODEL_19076b5ccbc14f64af6c68e4a7ca76a3",
            "_dom_classes": [],
            "description": "Downloading: 100%",
            "_model_name": "FloatProgressModel",
            "bar_style": "success",
            "max": 433,
            "_view_module": "@jupyter-widgets/controls",
            "_model_module_version": "1.5.0",
            "value": 433,
            "_view_count": null,
            "_view_module_version": "1.5.0",
            "orientation": "horizontal",
            "min": 0,
            "description_tooltip": null,
            "_model_module": "@jupyter-widgets/controls",
            "layout": "IPY_MODEL_2c2395f1121c493faee9f346b180e4bb"
          }
        },
        "0fa375c3499f4dad9685e32cb64d0701": {
          "model_module": "@jupyter-widgets/controls",
          "model_name": "HTMLModel",
          "state": {
            "_view_name": "HTMLView",
            "style": "IPY_MODEL_b25d3ff4ef35479ebf2debc12bada2a1",
            "_dom_classes": [],
            "description": "",
            "_model_name": "HTMLModel",
            "placeholder": "​",
            "_view_module": "@jupyter-widgets/controls",
            "_model_module_version": "1.5.0",
            "value": " 433/433 [00:00&lt;00:00, 2.60kB/s]",
            "_view_count": null,
            "_view_module_version": "1.5.0",
            "description_tooltip": null,
            "_model_module": "@jupyter-widgets/controls",
            "layout": "IPY_MODEL_eb85539490b04759adcc1e9b630f6d7d"
          }
        },
        "19076b5ccbc14f64af6c68e4a7ca76a3": {
          "model_module": "@jupyter-widgets/controls",
          "model_name": "ProgressStyleModel",
          "state": {
            "_view_name": "StyleView",
            "_model_name": "ProgressStyleModel",
            "description_width": "initial",
            "_view_module": "@jupyter-widgets/base",
            "_model_module_version": "1.5.0",
            "_view_count": null,
            "_view_module_version": "1.2.0",
            "bar_color": null,
            "_model_module": "@jupyter-widgets/controls"
          }
        },
        "2c2395f1121c493faee9f346b180e4bb": {
          "model_module": "@jupyter-widgets/base",
          "model_name": "LayoutModel",
          "state": {
            "_view_name": "LayoutView",
            "grid_template_rows": null,
            "right": null,
            "justify_content": null,
            "_view_module": "@jupyter-widgets/base",
            "overflow": null,
            "_model_module_version": "1.2.0",
            "_view_count": null,
            "flex_flow": null,
            "width": null,
            "min_width": null,
            "border": null,
            "align_items": null,
            "bottom": null,
            "_model_module": "@jupyter-widgets/base",
            "top": null,
            "grid_column": null,
            "overflow_y": null,
            "overflow_x": null,
            "grid_auto_flow": null,
            "grid_area": null,
            "grid_template_columns": null,
            "flex": null,
            "_model_name": "LayoutModel",
            "justify_items": null,
            "grid_row": null,
            "max_height": null,
            "align_content": null,
            "visibility": null,
            "align_self": null,
            "height": null,
            "min_height": null,
            "padding": null,
            "grid_auto_rows": null,
            "grid_gap": null,
            "max_width": null,
            "order": null,
            "_view_module_version": "1.2.0",
            "grid_template_areas": null,
            "object_position": null,
            "object_fit": null,
            "grid_auto_columns": null,
            "margin": null,
            "display": null,
            "left": null
          }
        },
        "b25d3ff4ef35479ebf2debc12bada2a1": {
          "model_module": "@jupyter-widgets/controls",
          "model_name": "DescriptionStyleModel",
          "state": {
            "_view_name": "StyleView",
            "_model_name": "DescriptionStyleModel",
            "description_width": "",
            "_view_module": "@jupyter-widgets/base",
            "_model_module_version": "1.5.0",
            "_view_count": null,
            "_view_module_version": "1.2.0",
            "_model_module": "@jupyter-widgets/controls"
          }
        },
        "eb85539490b04759adcc1e9b630f6d7d": {
          "model_module": "@jupyter-widgets/base",
          "model_name": "LayoutModel",
          "state": {
            "_view_name": "LayoutView",
            "grid_template_rows": null,
            "right": null,
            "justify_content": null,
            "_view_module": "@jupyter-widgets/base",
            "overflow": null,
            "_model_module_version": "1.2.0",
            "_view_count": null,
            "flex_flow": null,
            "width": null,
            "min_width": null,
            "border": null,
            "align_items": null,
            "bottom": null,
            "_model_module": "@jupyter-widgets/base",
            "top": null,
            "grid_column": null,
            "overflow_y": null,
            "overflow_x": null,
            "grid_auto_flow": null,
            "grid_area": null,
            "grid_template_columns": null,
            "flex": null,
            "_model_name": "LayoutModel",
            "justify_items": null,
            "grid_row": null,
            "max_height": null,
            "align_content": null,
            "visibility": null,
            "align_self": null,
            "height": null,
            "min_height": null,
            "padding": null,
            "grid_auto_rows": null,
            "grid_gap": null,
            "max_width": null,
            "order": null,
            "_view_module_version": "1.2.0",
            "grid_template_areas": null,
            "object_position": null,
            "object_fit": null,
            "grid_auto_columns": null,
            "margin": null,
            "display": null,
            "left": null
          }
        },
        "67cb6069c8b04287b5c9623d6a6daf2a": {
          "model_module": "@jupyter-widgets/controls",
          "model_name": "HBoxModel",
          "state": {
            "_view_name": "HBoxView",
            "_dom_classes": [],
            "_model_name": "HBoxModel",
            "_view_module": "@jupyter-widgets/controls",
            "_model_module_version": "1.5.0",
            "_view_count": null,
            "_view_module_version": "1.5.0",
            "box_style": "",
            "layout": "IPY_MODEL_898bc023dc30486eb8a6449af9e16321",
            "_model_module": "@jupyter-widgets/controls",
            "children": [
              "IPY_MODEL_0951fade0ff4421cb5a6f4e6f675d8cd",
              "IPY_MODEL_2059a742a08c4a35b01cfe2b3f5f11b4"
            ]
          }
        },
        "898bc023dc30486eb8a6449af9e16321": {
          "model_module": "@jupyter-widgets/base",
          "model_name": "LayoutModel",
          "state": {
            "_view_name": "LayoutView",
            "grid_template_rows": null,
            "right": null,
            "justify_content": null,
            "_view_module": "@jupyter-widgets/base",
            "overflow": null,
            "_model_module_version": "1.2.0",
            "_view_count": null,
            "flex_flow": null,
            "width": null,
            "min_width": null,
            "border": null,
            "align_items": null,
            "bottom": null,
            "_model_module": "@jupyter-widgets/base",
            "top": null,
            "grid_column": null,
            "overflow_y": null,
            "overflow_x": null,
            "grid_auto_flow": null,
            "grid_area": null,
            "grid_template_columns": null,
            "flex": null,
            "_model_name": "LayoutModel",
            "justify_items": null,
            "grid_row": null,
            "max_height": null,
            "align_content": null,
            "visibility": null,
            "align_self": null,
            "height": null,
            "min_height": null,
            "padding": null,
            "grid_auto_rows": null,
            "grid_gap": null,
            "max_width": null,
            "order": null,
            "_view_module_version": "1.2.0",
            "grid_template_areas": null,
            "object_position": null,
            "object_fit": null,
            "grid_auto_columns": null,
            "margin": null,
            "display": null,
            "left": null
          }
        },
        "0951fade0ff4421cb5a6f4e6f675d8cd": {
          "model_module": "@jupyter-widgets/controls",
          "model_name": "FloatProgressModel",
          "state": {
            "_view_name": "ProgressView",
            "style": "IPY_MODEL_f49e8779dc824c2f953052b13768bd13",
            "_dom_classes": [],
            "description": "Downloading: 100%",
            "_model_name": "FloatProgressModel",
            "bar_style": "success",
            "max": 536063208,
            "_view_module": "@jupyter-widgets/controls",
            "_model_module_version": "1.5.0",
            "value": 536063208,
            "_view_count": null,
            "_view_module_version": "1.5.0",
            "orientation": "horizontal",
            "min": 0,
            "description_tooltip": null,
            "_model_module": "@jupyter-widgets/controls",
            "layout": "IPY_MODEL_ec02ed84028846c6a31de205950ab05d"
          }
        },
        "2059a742a08c4a35b01cfe2b3f5f11b4": {
          "model_module": "@jupyter-widgets/controls",
          "model_name": "HTMLModel",
          "state": {
            "_view_name": "HTMLView",
            "style": "IPY_MODEL_f57799f97ed34623befde7a93227bcbe",
            "_dom_classes": [],
            "description": "",
            "_model_name": "HTMLModel",
            "placeholder": "​",
            "_view_module": "@jupyter-widgets/controls",
            "_model_module_version": "1.5.0",
            "value": " 536M/536M [01:20&lt;00:00, 6.68MB/s]",
            "_view_count": null,
            "_view_module_version": "1.5.0",
            "description_tooltip": null,
            "_model_module": "@jupyter-widgets/controls",
            "layout": "IPY_MODEL_a74818359b74429aaf9edbaadb68339a"
          }
        },
        "f49e8779dc824c2f953052b13768bd13": {
          "model_module": "@jupyter-widgets/controls",
          "model_name": "ProgressStyleModel",
          "state": {
            "_view_name": "StyleView",
            "_model_name": "ProgressStyleModel",
            "description_width": "initial",
            "_view_module": "@jupyter-widgets/base",
            "_model_module_version": "1.5.0",
            "_view_count": null,
            "_view_module_version": "1.2.0",
            "bar_color": null,
            "_model_module": "@jupyter-widgets/controls"
          }
        },
        "ec02ed84028846c6a31de205950ab05d": {
          "model_module": "@jupyter-widgets/base",
          "model_name": "LayoutModel",
          "state": {
            "_view_name": "LayoutView",
            "grid_template_rows": null,
            "right": null,
            "justify_content": null,
            "_view_module": "@jupyter-widgets/base",
            "overflow": null,
            "_model_module_version": "1.2.0",
            "_view_count": null,
            "flex_flow": null,
            "width": null,
            "min_width": null,
            "border": null,
            "align_items": null,
            "bottom": null,
            "_model_module": "@jupyter-widgets/base",
            "top": null,
            "grid_column": null,
            "overflow_y": null,
            "overflow_x": null,
            "grid_auto_flow": null,
            "grid_area": null,
            "grid_template_columns": null,
            "flex": null,
            "_model_name": "LayoutModel",
            "justify_items": null,
            "grid_row": null,
            "max_height": null,
            "align_content": null,
            "visibility": null,
            "align_self": null,
            "height": null,
            "min_height": null,
            "padding": null,
            "grid_auto_rows": null,
            "grid_gap": null,
            "max_width": null,
            "order": null,
            "_view_module_version": "1.2.0",
            "grid_template_areas": null,
            "object_position": null,
            "object_fit": null,
            "grid_auto_columns": null,
            "margin": null,
            "display": null,
            "left": null
          }
        },
        "f57799f97ed34623befde7a93227bcbe": {
          "model_module": "@jupyter-widgets/controls",
          "model_name": "DescriptionStyleModel",
          "state": {
            "_view_name": "StyleView",
            "_model_name": "DescriptionStyleModel",
            "description_width": "",
            "_view_module": "@jupyter-widgets/base",
            "_model_module_version": "1.5.0",
            "_view_count": null,
            "_view_module_version": "1.2.0",
            "_model_module": "@jupyter-widgets/controls"
          }
        },
        "a74818359b74429aaf9edbaadb68339a": {
          "model_module": "@jupyter-widgets/base",
          "model_name": "LayoutModel",
          "state": {
            "_view_name": "LayoutView",
            "grid_template_rows": null,
            "right": null,
            "justify_content": null,
            "_view_module": "@jupyter-widgets/base",
            "overflow": null,
            "_model_module_version": "1.2.0",
            "_view_count": null,
            "flex_flow": null,
            "width": null,
            "min_width": null,
            "border": null,
            "align_items": null,
            "bottom": null,
            "_model_module": "@jupyter-widgets/base",
            "top": null,
            "grid_column": null,
            "overflow_y": null,
            "overflow_x": null,
            "grid_auto_flow": null,
            "grid_area": null,
            "grid_template_columns": null,
            "flex": null,
            "_model_name": "LayoutModel",
            "justify_items": null,
            "grid_row": null,
            "max_height": null,
            "align_content": null,
            "visibility": null,
            "align_self": null,
            "height": null,
            "min_height": null,
            "padding": null,
            "grid_auto_rows": null,
            "grid_gap": null,
            "max_width": null,
            "order": null,
            "_view_module_version": "1.2.0",
            "grid_template_areas": null,
            "object_position": null,
            "object_fit": null,
            "grid_auto_columns": null,
            "margin": null,
            "display": null,
            "left": null
          }
        },
        "b6424249f06e41b8b286af821714ba7b": {
          "model_module": "@jupyter-widgets/controls",
          "model_name": "HBoxModel",
          "state": {
            "_view_name": "HBoxView",
            "_dom_classes": [],
            "_model_name": "HBoxModel",
            "_view_module": "@jupyter-widgets/controls",
            "_model_module_version": "1.5.0",
            "_view_count": null,
            "_view_module_version": "1.5.0",
            "box_style": "",
            "layout": "IPY_MODEL_6104960dffe547a4b50803e5ee2ca8a7",
            "_model_module": "@jupyter-widgets/controls",
            "children": [
              "IPY_MODEL_df04e9f10d104184803c0aba7db63bc9",
              "IPY_MODEL_c36daa1c4cd6402891c65010c6b5c0ab"
            ]
          }
        },
        "6104960dffe547a4b50803e5ee2ca8a7": {
          "model_module": "@jupyter-widgets/base",
          "model_name": "LayoutModel",
          "state": {
            "_view_name": "LayoutView",
            "grid_template_rows": null,
            "right": null,
            "justify_content": null,
            "_view_module": "@jupyter-widgets/base",
            "overflow": null,
            "_model_module_version": "1.2.0",
            "_view_count": null,
            "flex_flow": null,
            "width": null,
            "min_width": null,
            "border": null,
            "align_items": null,
            "bottom": null,
            "_model_module": "@jupyter-widgets/base",
            "top": null,
            "grid_column": null,
            "overflow_y": null,
            "overflow_x": null,
            "grid_auto_flow": null,
            "grid_area": null,
            "grid_template_columns": null,
            "flex": null,
            "_model_name": "LayoutModel",
            "justify_items": null,
            "grid_row": null,
            "max_height": null,
            "align_content": null,
            "visibility": null,
            "align_self": null,
            "height": null,
            "min_height": null,
            "padding": null,
            "grid_auto_rows": null,
            "grid_gap": null,
            "max_width": null,
            "order": null,
            "_view_module_version": "1.2.0",
            "grid_template_areas": null,
            "object_position": null,
            "object_fit": null,
            "grid_auto_columns": null,
            "margin": null,
            "display": null,
            "left": null
          }
        },
        "df04e9f10d104184803c0aba7db63bc9": {
          "model_module": "@jupyter-widgets/controls",
          "model_name": "FloatProgressModel",
          "state": {
            "_view_name": "ProgressView",
            "style": "IPY_MODEL_0d12750e3b2c461ca3a1a3ccecde874d",
            "_dom_classes": [],
            "description": "Downloading: 100%",
            "_model_name": "FloatProgressModel",
            "bar_style": "success",
            "max": 231508,
            "_view_module": "@jupyter-widgets/controls",
            "_model_module_version": "1.5.0",
            "value": 231508,
            "_view_count": null,
            "_view_module_version": "1.5.0",
            "orientation": "horizontal",
            "min": 0,
            "description_tooltip": null,
            "_model_module": "@jupyter-widgets/controls",
            "layout": "IPY_MODEL_338ba52063c849b49d575506532c463d"
          }
        },
        "c36daa1c4cd6402891c65010c6b5c0ab": {
          "model_module": "@jupyter-widgets/controls",
          "model_name": "HTMLModel",
          "state": {
            "_view_name": "HTMLView",
            "style": "IPY_MODEL_ea084b0a7af44399bf56090800b5412d",
            "_dom_classes": [],
            "description": "",
            "_model_name": "HTMLModel",
            "placeholder": "​",
            "_view_module": "@jupyter-widgets/controls",
            "_model_module_version": "1.5.0",
            "value": " 232k/232k [00:00&lt;00:00, 771kB/s]",
            "_view_count": null,
            "_view_module_version": "1.5.0",
            "description_tooltip": null,
            "_model_module": "@jupyter-widgets/controls",
            "layout": "IPY_MODEL_b02df49cc1ee4796810b6007dd0a59ee"
          }
        },
        "0d12750e3b2c461ca3a1a3ccecde874d": {
          "model_module": "@jupyter-widgets/controls",
          "model_name": "ProgressStyleModel",
          "state": {
            "_view_name": "StyleView",
            "_model_name": "ProgressStyleModel",
            "description_width": "initial",
            "_view_module": "@jupyter-widgets/base",
            "_model_module_version": "1.5.0",
            "_view_count": null,
            "_view_module_version": "1.2.0",
            "bar_color": null,
            "_model_module": "@jupyter-widgets/controls"
          }
        },
        "338ba52063c849b49d575506532c463d": {
          "model_module": "@jupyter-widgets/base",
          "model_name": "LayoutModel",
          "state": {
            "_view_name": "LayoutView",
            "grid_template_rows": null,
            "right": null,
            "justify_content": null,
            "_view_module": "@jupyter-widgets/base",
            "overflow": null,
            "_model_module_version": "1.2.0",
            "_view_count": null,
            "flex_flow": null,
            "width": null,
            "min_width": null,
            "border": null,
            "align_items": null,
            "bottom": null,
            "_model_module": "@jupyter-widgets/base",
            "top": null,
            "grid_column": null,
            "overflow_y": null,
            "overflow_x": null,
            "grid_auto_flow": null,
            "grid_area": null,
            "grid_template_columns": null,
            "flex": null,
            "_model_name": "LayoutModel",
            "justify_items": null,
            "grid_row": null,
            "max_height": null,
            "align_content": null,
            "visibility": null,
            "align_self": null,
            "height": null,
            "min_height": null,
            "padding": null,
            "grid_auto_rows": null,
            "grid_gap": null,
            "max_width": null,
            "order": null,
            "_view_module_version": "1.2.0",
            "grid_template_areas": null,
            "object_position": null,
            "object_fit": null,
            "grid_auto_columns": null,
            "margin": null,
            "display": null,
            "left": null
          }
        },
        "ea084b0a7af44399bf56090800b5412d": {
          "model_module": "@jupyter-widgets/controls",
          "model_name": "DescriptionStyleModel",
          "state": {
            "_view_name": "StyleView",
            "_model_name": "DescriptionStyleModel",
            "description_width": "",
            "_view_module": "@jupyter-widgets/base",
            "_model_module_version": "1.5.0",
            "_view_count": null,
            "_view_module_version": "1.2.0",
            "_model_module": "@jupyter-widgets/controls"
          }
        },
        "b02df49cc1ee4796810b6007dd0a59ee": {
          "model_module": "@jupyter-widgets/base",
          "model_name": "LayoutModel",
          "state": {
            "_view_name": "LayoutView",
            "grid_template_rows": null,
            "right": null,
            "justify_content": null,
            "_view_module": "@jupyter-widgets/base",
            "overflow": null,
            "_model_module_version": "1.2.0",
            "_view_count": null,
            "flex_flow": null,
            "width": null,
            "min_width": null,
            "border": null,
            "align_items": null,
            "bottom": null,
            "_model_module": "@jupyter-widgets/base",
            "top": null,
            "grid_column": null,
            "overflow_y": null,
            "overflow_x": null,
            "grid_auto_flow": null,
            "grid_area": null,
            "grid_template_columns": null,
            "flex": null,
            "_model_name": "LayoutModel",
            "justify_items": null,
            "grid_row": null,
            "max_height": null,
            "align_content": null,
            "visibility": null,
            "align_self": null,
            "height": null,
            "min_height": null,
            "padding": null,
            "grid_auto_rows": null,
            "grid_gap": null,
            "max_width": null,
            "order": null,
            "_view_module_version": "1.2.0",
            "grid_template_areas": null,
            "object_position": null,
            "object_fit": null,
            "grid_auto_columns": null,
            "margin": null,
            "display": null,
            "left": null
          }
        },
        "8c9786d103374f30b9c592028377afb0": {
          "model_module": "@jupyter-widgets/controls",
          "model_name": "HBoxModel",
          "state": {
            "_view_name": "HBoxView",
            "_dom_classes": [],
            "_model_name": "HBoxModel",
            "_view_module": "@jupyter-widgets/controls",
            "_model_module_version": "1.5.0",
            "_view_count": null,
            "_view_module_version": "1.5.0",
            "box_style": "",
            "layout": "IPY_MODEL_178b8d4d9f90470a9166c5107267075b",
            "_model_module": "@jupyter-widgets/controls",
            "children": [
              "IPY_MODEL_bf0ec8a6f1ba4dbfb009e722d93f832d",
              "IPY_MODEL_2dc4fa65d14a4754930a7473ce8da3ed"
            ]
          }
        },
        "178b8d4d9f90470a9166c5107267075b": {
          "model_module": "@jupyter-widgets/base",
          "model_name": "LayoutModel",
          "state": {
            "_view_name": "LayoutView",
            "grid_template_rows": null,
            "right": null,
            "justify_content": null,
            "_view_module": "@jupyter-widgets/base",
            "overflow": null,
            "_model_module_version": "1.2.0",
            "_view_count": null,
            "flex_flow": null,
            "width": null,
            "min_width": null,
            "border": null,
            "align_items": null,
            "bottom": null,
            "_model_module": "@jupyter-widgets/base",
            "top": null,
            "grid_column": null,
            "overflow_y": null,
            "overflow_x": null,
            "grid_auto_flow": null,
            "grid_area": null,
            "grid_template_columns": null,
            "flex": null,
            "_model_name": "LayoutModel",
            "justify_items": null,
            "grid_row": null,
            "max_height": null,
            "align_content": null,
            "visibility": null,
            "align_self": null,
            "height": null,
            "min_height": null,
            "padding": null,
            "grid_auto_rows": null,
            "grid_gap": null,
            "max_width": null,
            "order": null,
            "_view_module_version": "1.2.0",
            "grid_template_areas": null,
            "object_position": null,
            "object_fit": null,
            "grid_auto_columns": null,
            "margin": null,
            "display": null,
            "left": null
          }
        },
        "bf0ec8a6f1ba4dbfb009e722d93f832d": {
          "model_module": "@jupyter-widgets/controls",
          "model_name": "FloatProgressModel",
          "state": {
            "_view_name": "ProgressView",
            "style": "IPY_MODEL_c8d35cb407f348768c8406f9c6ba9b53",
            "_dom_classes": [],
            "description": "100%",
            "_model_name": "FloatProgressModel",
            "bar_style": "success",
            "max": 94,
            "_view_module": "@jupyter-widgets/controls",
            "_model_module_version": "1.5.0",
            "value": 94,
            "_view_count": null,
            "_view_module_version": "1.5.0",
            "orientation": "horizontal",
            "min": 0,
            "description_tooltip": null,
            "_model_module": "@jupyter-widgets/controls",
            "layout": "IPY_MODEL_cc1ec72c2e5c416c97e13000d8dae41e"
          }
        },
        "2dc4fa65d14a4754930a7473ce8da3ed": {
          "model_module": "@jupyter-widgets/controls",
          "model_name": "HTMLModel",
          "state": {
            "_view_name": "HTMLView",
            "style": "IPY_MODEL_e7e099fb231b42498587131518252fc8",
            "_dom_classes": [],
            "description": "",
            "_model_name": "HTMLModel",
            "placeholder": "​",
            "_view_module": "@jupyter-widgets/controls",
            "_model_module_version": "1.5.0",
            "value": " 94/94 [2:32:43&lt;00:00, 97.49s/it]",
            "_view_count": null,
            "_view_module_version": "1.5.0",
            "description_tooltip": null,
            "_model_module": "@jupyter-widgets/controls",
            "layout": "IPY_MODEL_d8605e1b27274d67afdcc2c4086c70a5"
          }
        },
        "c8d35cb407f348768c8406f9c6ba9b53": {
          "model_module": "@jupyter-widgets/controls",
          "model_name": "ProgressStyleModel",
          "state": {
            "_view_name": "StyleView",
            "_model_name": "ProgressStyleModel",
            "description_width": "initial",
            "_view_module": "@jupyter-widgets/base",
            "_model_module_version": "1.5.0",
            "_view_count": null,
            "_view_module_version": "1.2.0",
            "bar_color": null,
            "_model_module": "@jupyter-widgets/controls"
          }
        },
        "cc1ec72c2e5c416c97e13000d8dae41e": {
          "model_module": "@jupyter-widgets/base",
          "model_name": "LayoutModel",
          "state": {
            "_view_name": "LayoutView",
            "grid_template_rows": null,
            "right": null,
            "justify_content": null,
            "_view_module": "@jupyter-widgets/base",
            "overflow": null,
            "_model_module_version": "1.2.0",
            "_view_count": null,
            "flex_flow": null,
            "width": null,
            "min_width": null,
            "border": null,
            "align_items": null,
            "bottom": null,
            "_model_module": "@jupyter-widgets/base",
            "top": null,
            "grid_column": null,
            "overflow_y": null,
            "overflow_x": null,
            "grid_auto_flow": null,
            "grid_area": null,
            "grid_template_columns": null,
            "flex": null,
            "_model_name": "LayoutModel",
            "justify_items": null,
            "grid_row": null,
            "max_height": null,
            "align_content": null,
            "visibility": null,
            "align_self": null,
            "height": null,
            "min_height": null,
            "padding": null,
            "grid_auto_rows": null,
            "grid_gap": null,
            "max_width": null,
            "order": null,
            "_view_module_version": "1.2.0",
            "grid_template_areas": null,
            "object_position": null,
            "object_fit": null,
            "grid_auto_columns": null,
            "margin": null,
            "display": null,
            "left": null
          }
        },
        "e7e099fb231b42498587131518252fc8": {
          "model_module": "@jupyter-widgets/controls",
          "model_name": "DescriptionStyleModel",
          "state": {
            "_view_name": "StyleView",
            "_model_name": "DescriptionStyleModel",
            "description_width": "",
            "_view_module": "@jupyter-widgets/base",
            "_model_module_version": "1.5.0",
            "_view_count": null,
            "_view_module_version": "1.2.0",
            "_model_module": "@jupyter-widgets/controls"
          }
        },
        "d8605e1b27274d67afdcc2c4086c70a5": {
          "model_module": "@jupyter-widgets/base",
          "model_name": "LayoutModel",
          "state": {
            "_view_name": "LayoutView",
            "grid_template_rows": null,
            "right": null,
            "justify_content": null,
            "_view_module": "@jupyter-widgets/base",
            "overflow": null,
            "_model_module_version": "1.2.0",
            "_view_count": null,
            "flex_flow": null,
            "width": null,
            "min_width": null,
            "border": null,
            "align_items": null,
            "bottom": null,
            "_model_module": "@jupyter-widgets/base",
            "top": null,
            "grid_column": null,
            "overflow_y": null,
            "overflow_x": null,
            "grid_auto_flow": null,
            "grid_area": null,
            "grid_template_columns": null,
            "flex": null,
            "_model_name": "LayoutModel",
            "justify_items": null,
            "grid_row": null,
            "max_height": null,
            "align_content": null,
            "visibility": null,
            "align_self": null,
            "height": null,
            "min_height": null,
            "padding": null,
            "grid_auto_rows": null,
            "grid_gap": null,
            "max_width": null,
            "order": null,
            "_view_module_version": "1.2.0",
            "grid_template_areas": null,
            "object_position": null,
            "object_fit": null,
            "grid_auto_columns": null,
            "margin": null,
            "display": null,
            "left": null
          }
        },
        "a933c8a3e40045479f2d3ba72fd146d2": {
          "model_module": "@jupyter-widgets/controls",
          "model_name": "HBoxModel",
          "state": {
            "_view_name": "HBoxView",
            "_dom_classes": [],
            "_model_name": "HBoxModel",
            "_view_module": "@jupyter-widgets/controls",
            "_model_module_version": "1.5.0",
            "_view_count": null,
            "_view_module_version": "1.5.0",
            "box_style": "",
            "layout": "IPY_MODEL_3ab59a8f56444a46bd63934446019220",
            "_model_module": "@jupyter-widgets/controls",
            "children": [
              "IPY_MODEL_259cd41badcf4d42bc6e1eddefaef968",
              "IPY_MODEL_6adbf53ba9324862ac6d98305b1390a8"
            ]
          }
        },
        "3ab59a8f56444a46bd63934446019220": {
          "model_module": "@jupyter-widgets/base",
          "model_name": "LayoutModel",
          "state": {
            "_view_name": "LayoutView",
            "grid_template_rows": null,
            "right": null,
            "justify_content": null,
            "_view_module": "@jupyter-widgets/base",
            "overflow": null,
            "_model_module_version": "1.2.0",
            "_view_count": null,
            "flex_flow": null,
            "width": null,
            "min_width": null,
            "border": null,
            "align_items": null,
            "bottom": null,
            "_model_module": "@jupyter-widgets/base",
            "top": null,
            "grid_column": null,
            "overflow_y": null,
            "overflow_x": null,
            "grid_auto_flow": null,
            "grid_area": null,
            "grid_template_columns": null,
            "flex": null,
            "_model_name": "LayoutModel",
            "justify_items": null,
            "grid_row": null,
            "max_height": null,
            "align_content": null,
            "visibility": null,
            "align_self": null,
            "height": null,
            "min_height": null,
            "padding": null,
            "grid_auto_rows": null,
            "grid_gap": null,
            "max_width": null,
            "order": null,
            "_view_module_version": "1.2.0",
            "grid_template_areas": null,
            "object_position": null,
            "object_fit": null,
            "grid_auto_columns": null,
            "margin": null,
            "display": null,
            "left": null
          }
        },
        "259cd41badcf4d42bc6e1eddefaef968": {
          "model_module": "@jupyter-widgets/controls",
          "model_name": "FloatProgressModel",
          "state": {
            "_view_name": "ProgressView",
            "style": "IPY_MODEL_1e32b99774334e079c9fb27fe74acb7b",
            "_dom_classes": [],
            "description": "100%",
            "_model_name": "FloatProgressModel",
            "bar_style": "success",
            "max": 32,
            "_view_module": "@jupyter-widgets/controls",
            "_model_module_version": "1.5.0",
            "value": 32,
            "_view_count": null,
            "_view_module_version": "1.5.0",
            "orientation": "horizontal",
            "min": 0,
            "description_tooltip": null,
            "_model_module": "@jupyter-widgets/controls",
            "layout": "IPY_MODEL_5917614648814c16a332c60011909b25"
          }
        },
        "6adbf53ba9324862ac6d98305b1390a8": {
          "model_module": "@jupyter-widgets/controls",
          "model_name": "HTMLModel",
          "state": {
            "_view_name": "HTMLView",
            "style": "IPY_MODEL_c7e9e8351e4f41f3834f8c6e3fca2eac",
            "_dom_classes": [],
            "description": "",
            "_model_name": "HTMLModel",
            "placeholder": "​",
            "_view_module": "@jupyter-widgets/controls",
            "_model_module_version": "1.5.0",
            "value": " 32/32 [50:45&lt;00:00, 95.16s/it]",
            "_view_count": null,
            "_view_module_version": "1.5.0",
            "description_tooltip": null,
            "_model_module": "@jupyter-widgets/controls",
            "layout": "IPY_MODEL_2b821d6c635d4875884f39ba051031d3"
          }
        },
        "1e32b99774334e079c9fb27fe74acb7b": {
          "model_module": "@jupyter-widgets/controls",
          "model_name": "ProgressStyleModel",
          "state": {
            "_view_name": "StyleView",
            "_model_name": "ProgressStyleModel",
            "description_width": "initial",
            "_view_module": "@jupyter-widgets/base",
            "_model_module_version": "1.5.0",
            "_view_count": null,
            "_view_module_version": "1.2.0",
            "bar_color": null,
            "_model_module": "@jupyter-widgets/controls"
          }
        },
        "5917614648814c16a332c60011909b25": {
          "model_module": "@jupyter-widgets/base",
          "model_name": "LayoutModel",
          "state": {
            "_view_name": "LayoutView",
            "grid_template_rows": null,
            "right": null,
            "justify_content": null,
            "_view_module": "@jupyter-widgets/base",
            "overflow": null,
            "_model_module_version": "1.2.0",
            "_view_count": null,
            "flex_flow": null,
            "width": null,
            "min_width": null,
            "border": null,
            "align_items": null,
            "bottom": null,
            "_model_module": "@jupyter-widgets/base",
            "top": null,
            "grid_column": null,
            "overflow_y": null,
            "overflow_x": null,
            "grid_auto_flow": null,
            "grid_area": null,
            "grid_template_columns": null,
            "flex": null,
            "_model_name": "LayoutModel",
            "justify_items": null,
            "grid_row": null,
            "max_height": null,
            "align_content": null,
            "visibility": null,
            "align_self": null,
            "height": null,
            "min_height": null,
            "padding": null,
            "grid_auto_rows": null,
            "grid_gap": null,
            "max_width": null,
            "order": null,
            "_view_module_version": "1.2.0",
            "grid_template_areas": null,
            "object_position": null,
            "object_fit": null,
            "grid_auto_columns": null,
            "margin": null,
            "display": null,
            "left": null
          }
        },
        "c7e9e8351e4f41f3834f8c6e3fca2eac": {
          "model_module": "@jupyter-widgets/controls",
          "model_name": "DescriptionStyleModel",
          "state": {
            "_view_name": "StyleView",
            "_model_name": "DescriptionStyleModel",
            "description_width": "",
            "_view_module": "@jupyter-widgets/base",
            "_model_module_version": "1.5.0",
            "_view_count": null,
            "_view_module_version": "1.2.0",
            "_model_module": "@jupyter-widgets/controls"
          }
        },
        "2b821d6c635d4875884f39ba051031d3": {
          "model_module": "@jupyter-widgets/base",
          "model_name": "LayoutModel",
          "state": {
            "_view_name": "LayoutView",
            "grid_template_rows": null,
            "right": null,
            "justify_content": null,
            "_view_module": "@jupyter-widgets/base",
            "overflow": null,
            "_model_module_version": "1.2.0",
            "_view_count": null,
            "flex_flow": null,
            "width": null,
            "min_width": null,
            "border": null,
            "align_items": null,
            "bottom": null,
            "_model_module": "@jupyter-widgets/base",
            "top": null,
            "grid_column": null,
            "overflow_y": null,
            "overflow_x": null,
            "grid_auto_flow": null,
            "grid_area": null,
            "grid_template_columns": null,
            "flex": null,
            "_model_name": "LayoutModel",
            "justify_items": null,
            "grid_row": null,
            "max_height": null,
            "align_content": null,
            "visibility": null,
            "align_self": null,
            "height": null,
            "min_height": null,
            "padding": null,
            "grid_auto_rows": null,
            "grid_gap": null,
            "max_width": null,
            "order": null,
            "_view_module_version": "1.2.0",
            "grid_template_areas": null,
            "object_position": null,
            "object_fit": null,
            "grid_auto_columns": null,
            "margin": null,
            "display": null,
            "left": null
          }
        }
      }
    },
    "accelerator": "GPU"
  },
  "cells": [
    {
      "cell_type": "markdown",
      "metadata": {
        "id": "view-in-github",
        "colab_type": "text"
      },
      "source": [
        "<a href=\"https://colab.research.google.com/github/nikolmash/yes-no-question-answering/blob/master/QA_bert.ipynb\" target=\"_parent\"><img src=\"https://colab.research.google.com/assets/colab-badge.svg\" alt=\"Open In Colab\"/></a>"
      ]
    },
    {
      "cell_type": "code",
      "metadata": {
        "id": "zR-sXC0theVW",
        "colab_type": "code",
        "outputId": "dc933403-3126-48a4-9c1b-cc5c4d44365f",
        "colab": {
          "base_uri": "https://localhost:8080/",
          "height": 682
        }
      },
      "source": [
        "!pip install transformers\n",
        "!pip install jsonlines\n",
        "import numpy as np\n",
        "import pandas as pd\n",
        "import tensorflow as tf \n",
        "import torch\n",
        "import jsonlines\n",
        "from transformers import *\n",
        "from tqdm.notebook import tqdm\n",
        "from sklearn.linear_model import LogisticRegression\n",
        "from sklearn.metrics import accuracy_score\n",
        "from sklearn.metrics import f1_score"
      ],
      "execution_count": 1,
      "outputs": [
        {
          "output_type": "stream",
          "text": [
            "Collecting transformers\n",
            "\u001b[?25l  Downloading https://files.pythonhosted.org/packages/cd/38/c9527aa055241c66c4d785381eaf6f80a28c224cae97daa1f8b183b5fabb/transformers-2.9.0-py3-none-any.whl (635kB)\n",
            "\r\u001b[K     |▌                               | 10kB 20.2MB/s eta 0:00:01\r\u001b[K     |█                               | 20kB 4.0MB/s eta 0:00:01\r\u001b[K     |█▌                              | 30kB 5.3MB/s eta 0:00:01\r\u001b[K     |██                              | 40kB 5.5MB/s eta 0:00:01\r\u001b[K     |██▋                             | 51kB 4.6MB/s eta 0:00:01\r\u001b[K     |███                             | 61kB 5.0MB/s eta 0:00:01\r\u001b[K     |███▋                            | 71kB 5.5MB/s eta 0:00:01\r\u001b[K     |████▏                           | 81kB 5.7MB/s eta 0:00:01\r\u001b[K     |████▋                           | 92kB 5.7MB/s eta 0:00:01\r\u001b[K     |█████▏                          | 102kB 5.9MB/s eta 0:00:01\r\u001b[K     |█████▊                          | 112kB 5.9MB/s eta 0:00:01\r\u001b[K     |██████▏                         | 122kB 5.9MB/s eta 0:00:01\r\u001b[K     |██████▊                         | 133kB 5.9MB/s eta 0:00:01\r\u001b[K     |███████▏                        | 143kB 5.9MB/s eta 0:00:01\r\u001b[K     |███████▊                        | 153kB 5.9MB/s eta 0:00:01\r\u001b[K     |████████▎                       | 163kB 5.9MB/s eta 0:00:01\r\u001b[K     |████████▊                       | 174kB 5.9MB/s eta 0:00:01\r\u001b[K     |█████████▎                      | 184kB 5.9MB/s eta 0:00:01\r\u001b[K     |█████████▉                      | 194kB 5.9MB/s eta 0:00:01\r\u001b[K     |██████████▎                     | 204kB 5.9MB/s eta 0:00:01\r\u001b[K     |██████████▉                     | 215kB 5.9MB/s eta 0:00:01\r\u001b[K     |███████████▍                    | 225kB 5.9MB/s eta 0:00:01\r\u001b[K     |███████████▉                    | 235kB 5.9MB/s eta 0:00:01\r\u001b[K     |████████████▍                   | 245kB 5.9MB/s eta 0:00:01\r\u001b[K     |████████████▉                   | 256kB 5.9MB/s eta 0:00:01\r\u001b[K     |█████████████▍                  | 266kB 5.9MB/s eta 0:00:01\r\u001b[K     |██████████████                  | 276kB 5.9MB/s eta 0:00:01\r\u001b[K     |██████████████▍                 | 286kB 5.9MB/s eta 0:00:01\r\u001b[K     |███████████████                 | 296kB 5.9MB/s eta 0:00:01\r\u001b[K     |███████████████▌                | 307kB 5.9MB/s eta 0:00:01\r\u001b[K     |████████████████                | 317kB 5.9MB/s eta 0:00:01\r\u001b[K     |████████████████▌               | 327kB 5.9MB/s eta 0:00:01\r\u001b[K     |█████████████████               | 337kB 5.9MB/s eta 0:00:01\r\u001b[K     |█████████████████▌              | 348kB 5.9MB/s eta 0:00:01\r\u001b[K     |██████████████████              | 358kB 5.9MB/s eta 0:00:01\r\u001b[K     |██████████████████▋             | 368kB 5.9MB/s eta 0:00:01\r\u001b[K     |███████████████████             | 378kB 5.9MB/s eta 0:00:01\r\u001b[K     |███████████████████▋            | 389kB 5.9MB/s eta 0:00:01\r\u001b[K     |████████████████████            | 399kB 5.9MB/s eta 0:00:01\r\u001b[K     |████████████████████▋           | 409kB 5.9MB/s eta 0:00:01\r\u001b[K     |█████████████████████▏          | 419kB 5.9MB/s eta 0:00:01\r\u001b[K     |█████████████████████▋          | 430kB 5.9MB/s eta 0:00:01\r\u001b[K     |██████████████████████▏         | 440kB 5.9MB/s eta 0:00:01\r\u001b[K     |██████████████████████▊         | 450kB 5.9MB/s eta 0:00:01\r\u001b[K     |███████████████████████▏        | 460kB 5.9MB/s eta 0:00:01\r\u001b[K     |███████████████████████▊        | 471kB 5.9MB/s eta 0:00:01\r\u001b[K     |████████████████████████▎       | 481kB 5.9MB/s eta 0:00:01\r\u001b[K     |████████████████████████▊       | 491kB 5.9MB/s eta 0:00:01\r\u001b[K     |█████████████████████████▎      | 501kB 5.9MB/s eta 0:00:01\r\u001b[K     |█████████████████████████▊      | 512kB 5.9MB/s eta 0:00:01\r\u001b[K     |██████████████████████████▎     | 522kB 5.9MB/s eta 0:00:01\r\u001b[K     |██████████████████████████▉     | 532kB 5.9MB/s eta 0:00:01\r\u001b[K     |███████████████████████████▎    | 542kB 5.9MB/s eta 0:00:01\r\u001b[K     |███████████████████████████▉    | 552kB 5.9MB/s eta 0:00:01\r\u001b[K     |████████████████████████████▍   | 563kB 5.9MB/s eta 0:00:01\r\u001b[K     |████████████████████████████▉   | 573kB 5.9MB/s eta 0:00:01\r\u001b[K     |█████████████████████████████▍  | 583kB 5.9MB/s eta 0:00:01\r\u001b[K     |██████████████████████████████  | 593kB 5.9MB/s eta 0:00:01\r\u001b[K     |██████████████████████████████▍ | 604kB 5.9MB/s eta 0:00:01\r\u001b[K     |███████████████████████████████ | 614kB 5.9MB/s eta 0:00:01\r\u001b[K     |███████████████████████████████▍| 624kB 5.9MB/s eta 0:00:01\r\u001b[K     |████████████████████████████████| 634kB 5.9MB/s eta 0:00:01\r\u001b[K     |████████████████████████████████| 645kB 5.9MB/s \n",
            "\u001b[?25hRequirement already satisfied: numpy in /usr/local/lib/python3.6/dist-packages (from transformers) (1.18.4)\n",
            "Requirement already satisfied: dataclasses; python_version < \"3.7\" in /usr/local/lib/python3.6/dist-packages (from transformers) (0.7)\n",
            "Requirement already satisfied: tqdm>=4.27 in /usr/local/lib/python3.6/dist-packages (from transformers) (4.41.1)\n",
            "Requirement already satisfied: regex!=2019.12.17 in /usr/local/lib/python3.6/dist-packages (from transformers) (2019.12.20)\n",
            "Collecting tokenizers==0.7.0\n",
            "\u001b[?25l  Downloading https://files.pythonhosted.org/packages/14/e5/a26eb4716523808bb0a799fcfdceb6ebf77a18169d9591b2f46a9adb87d9/tokenizers-0.7.0-cp36-cp36m-manylinux1_x86_64.whl (3.8MB)\n",
            "\u001b[K     |████████████████████████████████| 3.8MB 14.0MB/s \n",
            "\u001b[?25hRequirement already satisfied: requests in /usr/local/lib/python3.6/dist-packages (from transformers) (2.23.0)\n",
            "Requirement already satisfied: filelock in /usr/local/lib/python3.6/dist-packages (from transformers) (3.0.12)\n",
            "Collecting sacremoses\n",
            "\u001b[?25l  Downloading https://files.pythonhosted.org/packages/7d/34/09d19aff26edcc8eb2a01bed8e98f13a1537005d31e95233fd48216eed10/sacremoses-0.0.43.tar.gz (883kB)\n",
            "\u001b[K     |████████████████████████████████| 890kB 40.2MB/s \n",
            "\u001b[?25hCollecting sentencepiece\n",
            "\u001b[?25l  Downloading https://files.pythonhosted.org/packages/3b/88/49e772d686088e1278766ad68a463513642a2a877487decbd691dec02955/sentencepiece-0.1.90-cp36-cp36m-manylinux1_x86_64.whl (1.1MB)\n",
            "\u001b[K     |████████████████████████████████| 1.1MB 41.8MB/s \n",
            "\u001b[?25hRequirement already satisfied: urllib3!=1.25.0,!=1.25.1,<1.26,>=1.21.1 in /usr/local/lib/python3.6/dist-packages (from requests->transformers) (1.24.3)\n",
            "Requirement already satisfied: idna<3,>=2.5 in /usr/local/lib/python3.6/dist-packages (from requests->transformers) (2.9)\n",
            "Requirement already satisfied: certifi>=2017.4.17 in /usr/local/lib/python3.6/dist-packages (from requests->transformers) (2020.4.5.1)\n",
            "Requirement already satisfied: chardet<4,>=3.0.2 in /usr/local/lib/python3.6/dist-packages (from requests->transformers) (3.0.4)\n",
            "Requirement already satisfied: six in /usr/local/lib/python3.6/dist-packages (from sacremoses->transformers) (1.12.0)\n",
            "Requirement already satisfied: click in /usr/local/lib/python3.6/dist-packages (from sacremoses->transformers) (7.1.2)\n",
            "Requirement already satisfied: joblib in /usr/local/lib/python3.6/dist-packages (from sacremoses->transformers) (0.14.1)\n",
            "Building wheels for collected packages: sacremoses\n",
            "  Building wheel for sacremoses (setup.py) ... \u001b[?25l\u001b[?25hdone\n",
            "  Created wheel for sacremoses: filename=sacremoses-0.0.43-cp36-none-any.whl size=893260 sha256=5374bca39cc863460b1e868d8ac9a224e7202de2abb4dcf1dc77e25094570910\n",
            "  Stored in directory: /root/.cache/pip/wheels/29/3c/fd/7ce5c3f0666dab31a50123635e6fb5e19ceb42ce38d4e58f45\n",
            "Successfully built sacremoses\n",
            "Installing collected packages: tokenizers, sacremoses, sentencepiece, transformers\n",
            "Successfully installed sacremoses-0.0.43 sentencepiece-0.1.90 tokenizers-0.7.0 transformers-2.9.0\n",
            "Collecting jsonlines\n",
            "  Downloading https://files.pythonhosted.org/packages/4f/9a/ab96291470e305504aa4b7a2e0ec132e930da89eb3ca7a82fbe03167c131/jsonlines-1.2.0-py2.py3-none-any.whl\n",
            "Requirement already satisfied: six in /usr/local/lib/python3.6/dist-packages (from jsonlines) (1.12.0)\n",
            "Installing collected packages: jsonlines\n",
            "Successfully installed jsonlines-1.2.0\n"
          ],
          "name": "stdout"
        }
      ]
    },
    {
      "cell_type": "code",
      "metadata": {
        "id": "YwFakSZAjCa7",
        "colab_type": "code",
        "outputId": "b459f419-50a3-4b7b-cc75-124fc27e3925",
        "colab": {
          "base_uri": "https://localhost:8080/",
          "height": 126
        }
      },
      "source": [
        "from google.colab import drive\n",
        "drive.mount('/content/drive')"
      ],
      "execution_count": 2,
      "outputs": [
        {
          "output_type": "stream",
          "text": [
            "Go to this URL in a browser: https://accounts.google.com/o/oauth2/auth?client_id=947318989803-6bn6qk8qdgf4n4g3pfee6491hc0brc4i.apps.googleusercontent.com&redirect_uri=urn%3aietf%3awg%3aoauth%3a2.0%3aoob&response_type=code&scope=email%20https%3a%2f%2fwww.googleapis.com%2fauth%2fdocs.test%20https%3a%2f%2fwww.googleapis.com%2fauth%2fdrive%20https%3a%2f%2fwww.googleapis.com%2fauth%2fdrive.photos.readonly%20https%3a%2f%2fwww.googleapis.com%2fauth%2fpeopleapi.readonly\n",
            "\n",
            "Enter your authorization code:\n",
            "··········\n",
            "Mounted at /content/drive\n"
          ],
          "name": "stdout"
        }
      ]
    },
    {
      "cell_type": "markdown",
      "metadata": {
        "id": "CXPq8ZlAvdYj",
        "colab_type": "text"
      },
      "source": [
        "Если я загружаю корпус по ссылке из гитхаба, то у меня почему-то постоянно падает открытие этого файла .jsonl , поэтому открываю со своего гугл-диска"
      ]
    },
    {
      "cell_type": "code",
      "metadata": {
        "id": "0NH3kmgcmXX2",
        "colab_type": "code",
        "colab": {}
      },
      "source": [
        "with jsonlines.open('/content/drive/My Drive/train.jsonl') as reader:\n",
        "      train = [obj for obj in reader]\n",
        "with jsonlines.open('/content/drive/My Drive/dev.jsonl') as reader:\n",
        "      dev = [obj for obj in reader]"
      ],
      "execution_count": 0,
      "outputs": []
    },
    {
      "cell_type": "code",
      "metadata": {
        "id": "zMWvq3HNo8DR",
        "colab_type": "code",
        "outputId": "418efa88-2bf3-47a7-b775-f3dcea60cab8",
        "colab": {
          "base_uri": "https://localhost:8080/",
          "height": 189
        }
      },
      "source": [
        "train_df = pd.DataFrame(train)\n",
        "train_df.head()"
      ],
      "execution_count": 4,
      "outputs": [
        {
          "output_type": "execute_result",
          "data": {
            "text/html": [
              "<div>\n",
              "<style scoped>\n",
              "    .dataframe tbody tr th:only-of-type {\n",
              "        vertical-align: middle;\n",
              "    }\n",
              "\n",
              "    .dataframe tbody tr th {\n",
              "        vertical-align: top;\n",
              "    }\n",
              "\n",
              "    .dataframe thead th {\n",
              "        text-align: right;\n",
              "    }\n",
              "</style>\n",
              "<table border=\"1\" class=\"dataframe\">\n",
              "  <thead>\n",
              "    <tr style=\"text-align: right;\">\n",
              "      <th></th>\n",
              "      <th>question</th>\n",
              "      <th>title</th>\n",
              "      <th>answer</th>\n",
              "      <th>passage</th>\n",
              "    </tr>\n",
              "  </thead>\n",
              "  <tbody>\n",
              "    <tr>\n",
              "      <th>0</th>\n",
              "      <td>do iran and afghanistan speak the same language</td>\n",
              "      <td>Persian language</td>\n",
              "      <td>True</td>\n",
              "      <td>Persian (/ˈpɜːrʒən, -ʃən/), also known by its ...</td>\n",
              "    </tr>\n",
              "    <tr>\n",
              "      <th>1</th>\n",
              "      <td>do good samaritan laws protect those who help ...</td>\n",
              "      <td>Good Samaritan law</td>\n",
              "      <td>True</td>\n",
              "      <td>Good Samaritan laws offer legal protection to ...</td>\n",
              "    </tr>\n",
              "    <tr>\n",
              "      <th>2</th>\n",
              "      <td>is windows movie maker part of windows essentials</td>\n",
              "      <td>Windows Movie Maker</td>\n",
              "      <td>True</td>\n",
              "      <td>Windows Movie Maker (formerly known as Windows...</td>\n",
              "    </tr>\n",
              "    <tr>\n",
              "      <th>3</th>\n",
              "      <td>is confectionary sugar the same as powdered sugar</td>\n",
              "      <td>Powdered sugar</td>\n",
              "      <td>True</td>\n",
              "      <td>Powdered sugar, also called confectioners' sug...</td>\n",
              "    </tr>\n",
              "    <tr>\n",
              "      <th>4</th>\n",
              "      <td>is elder scrolls online the same as skyrim</td>\n",
              "      <td>The Elder Scrolls Online</td>\n",
              "      <td>False</td>\n",
              "      <td>As with other games in The Elder Scrolls serie...</td>\n",
              "    </tr>\n",
              "  </tbody>\n",
              "</table>\n",
              "</div>"
            ],
            "text/plain": [
              "                                            question  ...                                            passage\n",
              "0    do iran and afghanistan speak the same language  ...  Persian (/ˈpɜːrʒən, -ʃən/), also known by its ...\n",
              "1  do good samaritan laws protect those who help ...  ...  Good Samaritan laws offer legal protection to ...\n",
              "2  is windows movie maker part of windows essentials  ...  Windows Movie Maker (formerly known as Windows...\n",
              "3  is confectionary sugar the same as powdered sugar  ...  Powdered sugar, also called confectioners' sug...\n",
              "4         is elder scrolls online the same as skyrim  ...  As with other games in The Elder Scrolls serie...\n",
              "\n",
              "[5 rows x 4 columns]"
            ]
          },
          "metadata": {
            "tags": []
          },
          "execution_count": 4
        }
      ]
    },
    {
      "cell_type": "code",
      "metadata": {
        "id": "YOU0LTf9A019",
        "colab_type": "code",
        "outputId": "0a6e64f8-fb06-418b-e9a6-f3e00c58620b",
        "colab": {
          "base_uri": "https://localhost:8080/",
          "height": 189
        }
      },
      "source": [
        "dev_df = pd.DataFrame(dev)\n",
        "dev_df.head()"
      ],
      "execution_count": 5,
      "outputs": [
        {
          "output_type": "execute_result",
          "data": {
            "text/html": [
              "<div>\n",
              "<style scoped>\n",
              "    .dataframe tbody tr th:only-of-type {\n",
              "        vertical-align: middle;\n",
              "    }\n",
              "\n",
              "    .dataframe tbody tr th {\n",
              "        vertical-align: top;\n",
              "    }\n",
              "\n",
              "    .dataframe thead th {\n",
              "        text-align: right;\n",
              "    }\n",
              "</style>\n",
              "<table border=\"1\" class=\"dataframe\">\n",
              "  <thead>\n",
              "    <tr style=\"text-align: right;\">\n",
              "      <th></th>\n",
              "      <th>question</th>\n",
              "      <th>title</th>\n",
              "      <th>answer</th>\n",
              "      <th>passage</th>\n",
              "    </tr>\n",
              "  </thead>\n",
              "  <tbody>\n",
              "    <tr>\n",
              "      <th>0</th>\n",
              "      <td>does ethanol take more energy make that produces</td>\n",
              "      <td>Ethanol fuel</td>\n",
              "      <td>False</td>\n",
              "      <td>All biomass goes through at least some of thes...</td>\n",
              "    </tr>\n",
              "    <tr>\n",
              "      <th>1</th>\n",
              "      <td>is house tax and property tax are same</td>\n",
              "      <td>Property tax</td>\n",
              "      <td>True</td>\n",
              "      <td>Property tax or 'house tax' is a local tax on ...</td>\n",
              "    </tr>\n",
              "    <tr>\n",
              "      <th>2</th>\n",
              "      <td>is pain experienced in a missing body part or ...</td>\n",
              "      <td>Phantom pain</td>\n",
              "      <td>True</td>\n",
              "      <td>Phantom pain sensations are described as perce...</td>\n",
              "    </tr>\n",
              "    <tr>\n",
              "      <th>3</th>\n",
              "      <td>is harry potter and the escape from gringotts ...</td>\n",
              "      <td>Harry Potter and the Escape from Gringotts</td>\n",
              "      <td>True</td>\n",
              "      <td>Harry Potter and the Escape from Gringotts is ...</td>\n",
              "    </tr>\n",
              "    <tr>\n",
              "      <th>4</th>\n",
              "      <td>is there a difference between hydroxyzine hcl ...</td>\n",
              "      <td>Hydroxyzine</td>\n",
              "      <td>True</td>\n",
              "      <td>Hydroxyzine preparations require a doctor's pr...</td>\n",
              "    </tr>\n",
              "  </tbody>\n",
              "</table>\n",
              "</div>"
            ],
            "text/plain": [
              "                                            question  ...                                            passage\n",
              "0   does ethanol take more energy make that produces  ...  All biomass goes through at least some of thes...\n",
              "1             is house tax and property tax are same  ...  Property tax or 'house tax' is a local tax on ...\n",
              "2  is pain experienced in a missing body part or ...  ...  Phantom pain sensations are described as perce...\n",
              "3  is harry potter and the escape from gringotts ...  ...  Harry Potter and the Escape from Gringotts is ...\n",
              "4  is there a difference between hydroxyzine hcl ...  ...  Hydroxyzine preparations require a doctor's pr...\n",
              "\n",
              "[5 rows x 4 columns]"
            ]
          },
          "metadata": {
            "tags": []
          },
          "execution_count": 5
        }
      ]
    },
    {
      "cell_type": "code",
      "metadata": {
        "id": "Lhumm5Rjhh34",
        "colab_type": "code",
        "outputId": "9b08dcf8-fe01-4cee-e74a-ba63276bdcb5",
        "colab": {
          "base_uri": "https://localhost:8080/",
          "height": 166,
          "referenced_widgets": [
            "7ef3750d12554318ac572c7f1a5a86ca",
            "5e8d2e06af754c4cb84fa1263bd9c351",
            "7bdc3f552bf143d6ab7a2682cab55499",
            "0fa375c3499f4dad9685e32cb64d0701",
            "19076b5ccbc14f64af6c68e4a7ca76a3",
            "2c2395f1121c493faee9f346b180e4bb",
            "b25d3ff4ef35479ebf2debc12bada2a1",
            "eb85539490b04759adcc1e9b630f6d7d",
            "67cb6069c8b04287b5c9623d6a6daf2a",
            "898bc023dc30486eb8a6449af9e16321",
            "0951fade0ff4421cb5a6f4e6f675d8cd",
            "2059a742a08c4a35b01cfe2b3f5f11b4",
            "f49e8779dc824c2f953052b13768bd13",
            "ec02ed84028846c6a31de205950ab05d",
            "f57799f97ed34623befde7a93227bcbe",
            "a74818359b74429aaf9edbaadb68339a",
            "b6424249f06e41b8b286af821714ba7b",
            "6104960dffe547a4b50803e5ee2ca8a7",
            "df04e9f10d104184803c0aba7db63bc9",
            "c36daa1c4cd6402891c65010c6b5c0ab",
            "0d12750e3b2c461ca3a1a3ccecde874d",
            "338ba52063c849b49d575506532c463d",
            "ea084b0a7af44399bf56090800b5412d",
            "b02df49cc1ee4796810b6007dd0a59ee"
          ]
        }
      },
      "source": [
        "bert_model = TFBertModel.from_pretrained(\"bert-base-uncased\") \n",
        "bert_tokenizer = BertTokenizer.from_pretrained(\"bert-base-uncased\")"
      ],
      "execution_count": 6,
      "outputs": [
        {
          "output_type": "display_data",
          "data": {
            "application/vnd.jupyter.widget-view+json": {
              "model_id": "7ef3750d12554318ac572c7f1a5a86ca",
              "version_minor": 0,
              "version_major": 2
            },
            "text/plain": [
              "HBox(children=(FloatProgress(value=0.0, description='Downloading', max=433.0, style=ProgressStyle(description_…"
            ]
          },
          "metadata": {
            "tags": []
          }
        },
        {
          "output_type": "stream",
          "text": [
            "\n"
          ],
          "name": "stdout"
        },
        {
          "output_type": "display_data",
          "data": {
            "application/vnd.jupyter.widget-view+json": {
              "model_id": "67cb6069c8b04287b5c9623d6a6daf2a",
              "version_minor": 0,
              "version_major": 2
            },
            "text/plain": [
              "HBox(children=(FloatProgress(value=0.0, description='Downloading', max=536063208.0, style=ProgressStyle(descri…"
            ]
          },
          "metadata": {
            "tags": []
          }
        },
        {
          "output_type": "stream",
          "text": [
            "\n"
          ],
          "name": "stdout"
        },
        {
          "output_type": "display_data",
          "data": {
            "application/vnd.jupyter.widget-view+json": {
              "model_id": "b6424249f06e41b8b286af821714ba7b",
              "version_minor": 0,
              "version_major": 2
            },
            "text/plain": [
              "HBox(children=(FloatProgress(value=0.0, description='Downloading', max=231508.0, style=ProgressStyle(descripti…"
            ]
          },
          "metadata": {
            "tags": []
          }
        },
        {
          "output_type": "stream",
          "text": [
            "\n"
          ],
          "name": "stdout"
        }
      ]
    },
    {
      "cell_type": "code",
      "metadata": {
        "id": "MEhPFEG5pDqN",
        "colab_type": "code",
        "colab": {}
      },
      "source": [
        "train_df['data'] = \"[CLS] \" + train_df['question'] + \" [SEP] \" + train_df['passage'] + \" [SEP]\" \n",
        "dev_df['data'] = \"[CLS] \" + dev_df['question'] + \" [SEP] \" + dev_df['passage'] + \" [SEP]\" "
      ],
      "execution_count": 0,
      "outputs": []
    },
    {
      "cell_type": "code",
      "metadata": {
        "id": "nb-hsFE8j66H",
        "colab_type": "code",
        "colab": {}
      },
      "source": [
        "train_df['data'] = train_df['data'].apply(bert_tokenizer.tokenize)\n",
        "dev_df['data'] = dev_df['data'].apply(bert_tokenizer.tokenize)"
      ],
      "execution_count": 0,
      "outputs": []
    },
    {
      "cell_type": "code",
      "metadata": {
        "id": "uVcT02W4R-Mw",
        "colab_type": "code",
        "colab": {}
      },
      "source": [
        "max_length = 512\n",
        "train_input_ids = []\n",
        "train_attention_masks = []\n",
        "\n",
        "for text in train_df['data'].values:\n",
        "  encoded_data = bert_tokenizer.encode_plus(text, max_length=max_length, pad_to_max_length=True, truncation_strategy=\"longest_first\")\n",
        "  train_input_ids.append(encoded_data[\"input_ids\"])\n",
        "  train_attention_masks.append(encoded_data[\"attention_mask\"])\n",
        "\n",
        "train_input_ids = np.array(train_input_ids)\n",
        "train_attention_masks = np.array(train_attention_masks)"
      ],
      "execution_count": 0,
      "outputs": []
    },
    {
      "cell_type": "code",
      "metadata": {
        "id": "yfVKDkCfWBo_",
        "colab_type": "code",
        "colab": {}
      },
      "source": [
        "dev_input_ids = []\n",
        "dev_attention_masks = []\n",
        "\n",
        "for text in dev_df['data'].values:\n",
        "  encoded_data = bert_tokenizer.encode_plus(text, max_length=max_length, pad_to_max_length=True, truncation_strategy=\"longest_first\")\n",
        "  dev_input_ids.append(encoded_data[\"input_ids\"])\n",
        "  dev_attention_masks.append(encoded_data[\"attention_mask\"])\n",
        "\n",
        "dev_input_ids = np.array(dev_input_ids)\n",
        "dev_attention_masks = np.array(dev_attention_masks)"
      ],
      "execution_count": 0,
      "outputs": []
    },
    {
      "cell_type": "code",
      "metadata": {
        "id": "f2coaZRgX_ZN",
        "colab_type": "code",
        "colab": {}
      },
      "source": [
        "train_answers = train_df['answer'].values.astype(int)\n",
        "dev_answers = dev_df['answer'].values.astype(int)"
      ],
      "execution_count": 0,
      "outputs": []
    },
    {
      "cell_type": "code",
      "metadata": {
        "id": "RKEBWh_RYThD",
        "colab_type": "code",
        "colab": {}
      },
      "source": [
        "train_dataset = tf.data.Dataset.from_tensor_slices((train_input_ids, train_attention_masks, train_answers))\n",
        "dev_dataset = tf.data.Dataset.from_tensor_slices((dev_input_ids, dev_attention_masks, dev_answers))"
      ],
      "execution_count": 0,
      "outputs": []
    },
    {
      "cell_type": "code",
      "metadata": {
        "id": "Dbc6BLCLceTq",
        "colab_type": "code",
        "colab": {}
      },
      "source": [
        "optimizer = tf.keras.optimizers.Adam(learning_rate=1e-5, epsilon=1e-08, clipnorm=1.0)\n",
        "loss = tf.keras.losses.SparseCategoricalCrossentropy(from_logits=True)\n",
        "metric = tf.keras.metrics.SparseCategoricalAccuracy('accuracy')\n",
        "\n",
        "bert_model.compile(optimizer=optimizer, loss=loss, metrics=[metric])"
      ],
      "execution_count": 0,
      "outputs": []
    },
    {
      "cell_type": "code",
      "metadata": {
        "id": "dbkMkNTphwjR",
        "colab_type": "code",
        "outputId": "5d204d67-5f3a-43a4-b075-62267ecdf12c",
        "colab": {
          "base_uri": "https://localhost:8080/",
          "height": 108
        }
      },
      "source": [
        "history = bert_model.fit(train_dataset, epochs=2, steps_per_epoch=100,\n",
        "                    validation_data=dev_dataset, validation_steps=20)"
      ],
      "execution_count": 0,
      "outputs": [
        {
          "output_type": "stream",
          "text": [
            "Epoch 1/2\n",
            "100/100 [==============================] - 302s 3s/step - loss: 4.6359 - output_1_loss: 0.8433 - output_2_loss: 3.7926 - output_1_accuracy: 0.8149 - output_2_accuracy: 0.2340 - val_loss: 4.6485 - val_output_1_loss: 0.0028 - val_output_2_loss: 4.6457 - val_output_1_accuracy: 0.9998 - val_output_2_accuracy: 0.8945\n",
            "Epoch 2/2\n",
            "100/100 [==============================] - 302s 3s/step - loss: 3.1519 - output_1_loss: 0.0491 - output_2_loss: 3.1029 - output_1_accuracy: 0.9978 - output_2_accuracy: 0.9089 - val_loss: 4.3642 - val_output_1_loss: 0.0056 - val_output_2_loss: 4.3586 - val_output_1_accuracy: 0.9998 - val_output_2_accuracy: 0.9997\n"
          ],
          "name": "stdout"
        }
      ]
    },
    {
      "cell_type": "markdown",
      "metadata": {
        "id": "NW-5vmerv2dq",
        "colab_type": "text"
      },
      "source": [
        "Тут происходит что-то очень странное. В туториале от huggingface предлагают сохранить обученную модель на тензорфлоу, а потом открыть ее с помощью пайторча (?). https://github.com/huggingface/transformers#Quick-tour-TF-20-training-and-PyTorch-interoperability  Тензорфлоу в режиме предсказания постоянно падает("
      ]
    },
    {
      "cell_type": "code",
      "metadata": {
        "id": "kG582OvnwokJ",
        "colab_type": "code",
        "colab": {}
      },
      "source": [
        "bert_model.save_pretrained('/content/drive/My Drive/')"
      ],
      "execution_count": 0,
      "outputs": []
    },
    {
      "cell_type": "code",
      "metadata": {
        "id": "jB0NLRvVnZZD",
        "colab_type": "code",
        "colab": {}
      },
      "source": [
        "pytorch_model = BertModel.from_pretrained('/content/drive/My Drive/', from_tf=True)"
      ],
      "execution_count": 0,
      "outputs": []
    },
    {
      "cell_type": "markdown",
      "metadata": {
        "id": "3NuOysADwTH1",
        "colab_type": "text"
      },
      "source": [
        "Достаю из модели эмбеддинги для обучающей и валидационной выборки. Отдаю их в модель \"пачками\" по 100 элементов. Если отдавать целиком - то падает, а по одному ячейки работают невероятно долго, хотя и сейчас тоже около трех часов"
      ]
    },
    {
      "cell_type": "code",
      "metadata": {
        "colab_type": "code",
        "id": "9bCbREItdbXe",
        "colab": {
          "base_uri": "https://localhost:8080/",
          "height": 67,
          "referenced_widgets": [
            "8c9786d103374f30b9c592028377afb0",
            "178b8d4d9f90470a9166c5107267075b",
            "bf0ec8a6f1ba4dbfb009e722d93f832d",
            "2dc4fa65d14a4754930a7473ce8da3ed",
            "c8d35cb407f348768c8406f9c6ba9b53",
            "cc1ec72c2e5c416c97e13000d8dae41e",
            "e7e099fb231b42498587131518252fc8",
            "d8605e1b27274d67afdcc2c4086c70a5"
          ]
        },
        "outputId": "a08da185-d4f3-4e3e-e105-607df1f9dd3f"
      },
      "source": [
        "train_embeddings = []\n",
        "for i in tqdm(range(100, len(train_input_ids), 100)):\n",
        "  train_ids = torch.tensor(train_input_ids[i-100:i])\n",
        "  with torch.no_grad():\n",
        "    last_hidden_states = pytorch_model(train_ids)[0]\n",
        "  train_embeddings.append(last_hidden_states.numpy()[:,:,-1])\n",
        "train_ids = torch.tensor(train_input_ids[i:])\n",
        "with torch.no_grad():\n",
        "  last_hidden_states = pytorch_model(train_ids)[0]\n",
        "train_embeddings.append(last_hidden_states.numpy()[:,:,-1])"
      ],
      "execution_count": 13,
      "outputs": [
        {
          "output_type": "display_data",
          "data": {
            "application/vnd.jupyter.widget-view+json": {
              "model_id": "8c9786d103374f30b9c592028377afb0",
              "version_minor": 0,
              "version_major": 2
            },
            "text/plain": [
              "HBox(children=(FloatProgress(value=0.0, max=94.0), HTML(value='')))"
            ]
          },
          "metadata": {
            "tags": []
          }
        },
        {
          "output_type": "stream",
          "text": [
            "\n"
          ],
          "name": "stdout"
        }
      ]
    },
    {
      "cell_type": "code",
      "metadata": {
        "id": "wfZJsz1B5Epz",
        "colab_type": "code",
        "colab": {
          "base_uri": "https://localhost:8080/",
          "height": 67,
          "referenced_widgets": [
            "a933c8a3e40045479f2d3ba72fd146d2",
            "3ab59a8f56444a46bd63934446019220",
            "259cd41badcf4d42bc6e1eddefaef968",
            "6adbf53ba9324862ac6d98305b1390a8",
            "1e32b99774334e079c9fb27fe74acb7b",
            "5917614648814c16a332c60011909b25",
            "c7e9e8351e4f41f3834f8c6e3fca2eac",
            "2b821d6c635d4875884f39ba051031d3"
          ]
        },
        "outputId": "33e5138b-9d0d-4db0-b1ed-a2a85be16185"
      },
      "source": [
        "dev_embeddings = []\n",
        "for i in tqdm(range(100, len(dev_input_ids), 100)):\n",
        "  test_ids = torch.tensor(dev_input_ids[i-100:i])\n",
        "  with torch.no_grad():\n",
        "    last_hidden_states = pytorch_model(test_ids)[0]\n",
        "  dev_embeddings.append(last_hidden_states.numpy()[:,:,-1])\n",
        "train_ids = torch.tensor(dev_input_ids[i:])\n",
        "with torch.no_grad():\n",
        "  last_hidden_states = pytorch_model(train_ids)[0]\n",
        "dev_embeddings.append(last_hidden_states.numpy()[:,:,-1])\n"
      ],
      "execution_count": 14,
      "outputs": [
        {
          "output_type": "display_data",
          "data": {
            "application/vnd.jupyter.widget-view+json": {
              "model_id": "a933c8a3e40045479f2d3ba72fd146d2",
              "version_minor": 0,
              "version_major": 2
            },
            "text/plain": [
              "HBox(children=(FloatProgress(value=0.0, max=32.0), HTML(value='')))"
            ]
          },
          "metadata": {
            "tags": []
          }
        },
        {
          "output_type": "stream",
          "text": [
            "\n"
          ],
          "name": "stdout"
        }
      ]
    },
    {
      "cell_type": "markdown",
      "metadata": {
        "id": "y8nsHY8LwxX5",
        "colab_type": "text"
      },
      "source": [
        "Конкатенируем \"пачки\" эмбеддингов по 100 в один нормальный numpy array"
      ]
    },
    {
      "cell_type": "code",
      "metadata": {
        "id": "OinUFC7rOnjC",
        "colab_type": "code",
        "colab": {
          "base_uri": "https://localhost:8080/",
          "height": 52
        },
        "outputId": "e577be30-3622-430b-c87e-4306c21a371a"
      },
      "source": [
        "train_data = np.concatenate(train_embeddings)\n",
        "dev_data = np.concatenate(dev_embeddings)\n",
        "print(train_data.shape)\n",
        "print(dev_data.shape)"
      ],
      "execution_count": 39,
      "outputs": [
        {
          "output_type": "stream",
          "text": [
            "(9427, 512)\n",
            "(3270, 512)\n"
          ],
          "name": "stdout"
        }
      ]
    },
    {
      "cell_type": "markdown",
      "metadata": {
        "id": "2W3oq4V4w7W1",
        "colab_type": "text"
      },
      "source": [
        "Обучаем логистическую регрессию"
      ]
    },
    {
      "cell_type": "code",
      "metadata": {
        "id": "zvgvhk67Mpnf",
        "colab_type": "code",
        "colab": {}
      },
      "source": [
        "lr = LogisticRegression(max_iter=1000)\n",
        "lr.fit(train_data, train_answers)\n",
        "predictions = lr.predict(dev_data)"
      ],
      "execution_count": 0,
      "outputs": []
    },
    {
      "cell_type": "code",
      "metadata": {
        "id": "TQguoRiSO9nZ",
        "colab_type": "code",
        "outputId": "af9752a8-24c1-4255-c421-fb6f46e13eae",
        "colab": {
          "base_uri": "https://localhost:8080/",
          "height": 52
        }
      },
      "source": [
        "print('Accuracy: ', accuracy_score(dev_answers, predictions))\n",
        "print('F1 score: ', f1_score(dev_answers, predictions))"
      ],
      "execution_count": 42,
      "outputs": [
        {
          "output_type": "stream",
          "text": [
            "Accuracy:  0.6122324159021407\n",
            "F1 score:  0.7444578798871423\n"
          ],
          "name": "stdout"
        }
      ]
    }
  ]
}